{
 "cells": [
  {
   "cell_type": "code",
   "execution_count": 20,
   "id": "43f51a01",
   "metadata": {},
   "outputs": [],
   "source": [
    "import pandas as pd\n",
    "from datetime import datetime\n",
    "\n",
    "from tqdm import tqdm\n",
    "from time import sleep\n",
    "\n",
    "from bs4 import BeautifulSoup\n",
    "import requests\n",
    "\n",
    "import warnings\n",
    "warnings.filterwarnings('ignore')"
   ]
  },
  {
   "cell_type": "markdown",
   "id": "f9bcb682",
   "metadata": {},
   "source": [
    "---\n",
    "\n",
    "## urls"
   ]
  },
  {
   "cell_type": "code",
   "execution_count": 21,
   "id": "cab7e8dc",
   "metadata": {},
   "outputs": [],
   "source": [
    "master_url = 'https://www.airport-ohare.com'\n",
    "\n",
    "url_yesterday_0_6 = 'https://www.airport-ohare.com/departures.php?tp=0&day=yesterday'\n",
    "url_yesterday_6_12 = 'https://www.airport-ohare.com/departures.php?tp=6&day=yesterday'\n",
    "url_yesterday_12_18 = 'https://www.airport-ohare.com/departures.php?tp=12&day=yesterday'\n",
    "url_yesterday_18_0 = 'https://www.airport-ohare.com/departures.php?tp=18&day=yesterday'\n",
    "\n",
    "urls_yesterday = [url_yesterday_0_6, url_yesterday_6_12, url_yesterday_12_18, url_yesterday_18_0]"
   ]
  },
  {
   "cell_type": "code",
   "execution_count": 22,
   "id": "e5ec36ff-c794-4961-91a4-0b16a59dad50",
   "metadata": {},
   "outputs": [],
   "source": [
    "url_today_0_6 = 'https://www.airport-ohare.com/departures.php?tp=0'\n",
    "url_today_6_12 = 'https://www.airport-ohare.com/departures.php?tp=6'\n",
    "url_today_12_18 = 'https://www.airport-ohare.com/departures.php?tp=12'\n",
    "url_today_18_0 = 'https://www.airport-ohare.com/departures.php?tp=18'\n",
    "\n",
    "urls_today = [url_today_0_6, url_today_6_12, url_today_12_18, url_today_18_0]"
   ]
  },
  {
   "cell_type": "code",
   "execution_count": 23,
   "id": "b22530b6-655c-4ea3-8f63-ae5ab7690e2e",
   "metadata": {},
   "outputs": [],
   "source": [
    "url_tomorrow_0_6 = 'https://www.airport-ohare.com/departures.php?tp=0&day=tomorrow'\n",
    "url_tomorrow_6_12 = 'https://www.airport-ohare.com/departures.php?tp=6&day=tomorrow'\n",
    "url_tomorrow_12_18 = 'https://www.airport-ohare.com/departures.php?tp=12&day=tomorrow'\n",
    "url_tomorrow_18_0 = 'https://www.airport-ohare.com/departures.php?tp=18&day=tomorrow'\n",
    "\n",
    "urls_tomorrow = [url_tomorrow_0_6, url_tomorrow_6_12, url_tomorrow_12_18, url_tomorrow_18_0]"
   ]
  },
  {
   "cell_type": "markdown",
   "id": "16c85e38",
   "metadata": {},
   "source": [
    "-----\n"
   ]
  },
  {
   "cell_type": "code",
   "execution_count": 5,
   "id": "6f5b68a7-0990-401e-a585-3e90facfe77a",
   "metadata": {},
   "outputs": [],
   "source": [
    "def open_page(url):\n",
    "    ''' Opens page for parsing with beautiful soup\n",
    "\n",
    "    :param url: page's url\n",
    "    :return: soup object\n",
    "    '''\n",
    "    page = requests.get(url)\n",
    "    page = BeautifulSoup(page.content, 'html.parser')\n",
    "    return page"
   ]
  },
  {
   "cell_type": "code",
   "execution_count": 6,
   "id": "604df20e-2c0d-4f43-bf8e-ca8f60340ccc",
   "metadata": {},
   "outputs": [],
   "source": [
    "def filter_clickable_items(items):\n",
    "    ''' Gets links from html objects\n",
    "\n",
    "    :param items: list of html parsed items\n",
    "    :return: list of links from <items>\n",
    "    '''\n",
    "    clickables = []\n",
    "    for flight in items:\n",
    "        href = flight.find('a') # link indicator\n",
    "        if href is not None:\n",
    "            clickables.append(href['href'])\n",
    "    return clickables"
   ]
  },
  {
   "cell_type": "code",
   "execution_count": 7,
   "id": "91d8fac3-4c03-475b-a8e3-3eaa8c419690",
   "metadata": {},
   "outputs": [],
   "source": [
    "def get_flights_from_main_pages(urls):\n",
    "    ''' Gets links from html objects\n",
    "\n",
    "    :param urls: start pages to parse\n",
    "    :return: list of flight pages\n",
    "    '''\n",
    "    flight_urls = []\n",
    "    for url in urls:\n",
    "        page = open_page(url)\n",
    "\n",
    "        # getting all suitable objects from the page\n",
    "        flights = page.find_all('div', {'class': 'flight-col flight-col__flight'})\n",
    "        flight_urls.extend(filter_clickable_items(flights))\n",
    "    return flight_urls"
   ]
  },
  {
   "cell_type": "code",
   "execution_count": 8,
   "id": "0583c009-3add-4677-895e-74914ab91a1a",
   "metadata": {},
   "outputs": [],
   "source": [
    "def format_actual_time(time, date):\n",
    "    ''' Formats parsed string of actual time of flight to datetime\n",
    "\n",
    "    :param time: string from html parser\n",
    "    :param date: date of flight (string)\n",
    "    :return: datetime object\n",
    "    '''\n",
    "    actual_time = time.text.strip()\n",
    "    if actual_time[-1] != ')': # there is a date in text\n",
    "        actual_time += f' ({date})'\n",
    "    actual_datetime = datetime.strptime(actual_time, \"%I:%M %p (%Y-%m-%d)\")\n",
    "    return actual_datetime"
   ]
  },
  {
   "cell_type": "code",
   "execution_count": 9,
   "id": "e637500d-0a32-4f1b-9bb7-51fe8a0b9c0f",
   "metadata": {},
   "outputs": [],
   "source": [
    "def format_scheduled_time(time, date):\n",
    "    ''' Formats parsed string (12-hours format) of scheduled \n",
    "    time of flight to datetime and 24-format string\n",
    "\n",
    "    :param time: string from html parser\n",
    "    :param date: date of flight (string)\n",
    "    :return: (datetime object, time string in 24-hours format)\n",
    "    '''\n",
    "    scheduled_time = time.text.strip().split()\n",
    "    scheduled_time = scheduled_time[-2] + ' ' + scheduled_time[-1] + ' ' + date\n",
    "    scheduled_datetime = datetime.strptime(scheduled_time, \"%I:%M %p %Y-%m-%d\")\n",
    "    scheduled_time_24 = datetime.strftime(scheduled_datetime, \"%H:%M\")\n",
    "    return scheduled_datetime, scheduled_time_24"
   ]
  },
  {
   "cell_type": "code",
   "execution_count": 10,
   "id": "cdab3b50-e793-4f7f-952b-8cba9ad7744f",
   "metadata": {},
   "outputs": [],
   "source": [
    "def parse_general_items(page, url):\n",
    "    ''' Parses items that are shared among test and train datasets\n",
    "\n",
    "    :param page: page opened via beautiful soup\n",
    "    :param url: corresponding url\n",
    "    :return: basic info about the flight\n",
    "    '''\n",
    "    date = page.find('div', {'class': 'flight-info__date'}).text.strip() # %Y-%m-%d\n",
    "    flight = url.split('/')[-1].split('?')[0] # XX****\n",
    "    destination = page.find_all('div', {'class': 'flight-info__city'})[-1].text.strip().split()[-1][1:-1] # XXX\n",
    "    scheduled_time = page.find('div', {'class': 'flight-info__sch-departed'})\n",
    "    scheduled_datetime, scheduled_time = format_scheduled_time(scheduled_time, date)\n",
    "    return date, flight, destination, scheduled_datetime, scheduled_time"
   ]
  },
  {
   "cell_type": "code",
   "execution_count": 11,
   "id": "be194b9c-eee2-4fcc-8bb7-d5de910ecc73",
   "metadata": {},
   "outputs": [],
   "source": [
    "def parse_flight_page(url):\n",
    "    ''' Gets links from html objects\n",
    "\n",
    "    :param url: link to flight page\n",
    "    :return: list of flight pages\n",
    "    '''\n",
    "    page = open_page(url)\n",
    "    date, flight, destination, scheduled_datetime, scheduled_time = parse_general_items(page, url)\n",
    "    \n",
    "    row = {\n",
    "        'Date': date,\n",
    "        'Flight': flight[2:],\n",
    "        'Carrier Code': flight[:2],\n",
    "        'Scheduled Time': scheduled_time,\n",
    "        'Destination airport': destination\n",
    "    }\n",
    "    \n",
    "    actual_time =  page.find('div', {'class': 'flight-info__infobox-text'})\n",
    "    actual_datetime = format_actual_time(actual_time, date)\n",
    "    \n",
    "    delay = actual_datetime - scheduled_datetime\n",
    "    delay = int(delay.total_seconds() / 60)\n",
    "    status = page.find('div', {'class': 'flight-info__infobox-title'}).text.strip()\n",
    "    if status != 'Departed at:': # => there is no info\n",
    "        delay = None\n",
    "    row['Delay'] = delay\n",
    "\n",
    "    return row"
   ]
  },
  {
   "cell_type": "code",
   "execution_count": 12,
   "id": "52fafa2d-12e1-416d-be7a-6e26c2524a6f",
   "metadata": {},
   "outputs": [],
   "source": [
    "def get_flights(urls):\n",
    "    ''' Builds DataFrame with flights info\n",
    "\n",
    "    :param urls: links of main pages with timetables\n",
    "    :return: DataFrame with the following info ->\n",
    "        <'Date', 'Flight', 'Carrier Code', 'Scheduled Time', 'Delay', 'Destination airport'>\n",
    "    '''\n",
    "    flight_urls = get_flights_from_main_pages(urls)\n",
    "\n",
    "    yesterday_flights = pd.DataFrame(columns=[\n",
    "        'Date', 'Flight', 'Carrier Code', 'Scheduled Time', 'Delay', 'Destination airport'\n",
    "    ])\n",
    "\n",
    "    for url in tqdm(flight_urls):\n",
    "        flight_url = master_url + url\n",
    "        row = parse_flight_page(flight_url)\n",
    "        if row is None:\n",
    "            continue\n",
    "        yesterday_flights = yesterday_flights.append(row, ignore_index=True)\n",
    "    return yesterday_flights"
   ]
  },
  {
   "cell_type": "code",
   "execution_count": 13,
   "id": "f61875d4-77e7-4fc4-8fd8-e1f51ac12018",
   "metadata": {},
   "outputs": [],
   "source": [
    "def save_flights(urls, file_name=None):\n",
    "    ''' Saves to system DataFrame with flights info\n",
    "\n",
    "    :param urls: links of main pages with timetables\n",
    "    :param file_name: address of saved file\n",
    "    '''\n",
    "    yesterday_flights = get_flights(urls)\n",
    "    date = yesterday_flights['Date'][0]\n",
    "    if file_name is None:\n",
    "        file_name = f'flights_{date}.csv'\n",
    "    yesterday_flights.to_csv(file_name)"
   ]
  },
  {
   "cell_type": "code",
   "execution_count": null,
   "id": "dad7ba59-b928-446d-99e9-cafe941c2769",
   "metadata": {},
   "outputs": [
    {
     "name": "stderr",
     "output_type": "stream",
     "text": [
      " 40%|███▉      | 358/902 [02:50<04:11,  2.16it/s]"
     ]
    }
   ],
   "source": [
    "#save_flights(urls_today)"
   ]
  },
  {
   "cell_type": "markdown",
   "id": "f07f88d8-71f7-443d-95e7-7ee2756ee396",
   "metadata": {},
   "source": [
    "Run every day approximately at 23:00 (GMT+3, Moscow Time)"
   ]
  },
  {
   "cell_type": "code",
   "execution_count": 27,
   "id": "3d2cab5e-9f9c-4a44-97fc-cf9bc105af11",
   "metadata": {},
   "outputs": [
    {
     "name": "stderr",
     "output_type": "stream",
     "text": [
      "100%|██████████| 937/937 [07:23<00:00,  2.11it/s]\n"
     ]
    }
   ],
   "source": [
    "save_flights(urls_yesterday)"
   ]
  },
  {
   "cell_type": "code",
   "execution_count": 28,
   "id": "22b01efc",
   "metadata": {},
   "outputs": [
    {
     "name": "stderr",
     "output_type": "stream",
     "text": [
      "100%|██████████| 872/872 [07:03<00:00,  2.06it/s]\n"
     ]
    }
   ],
   "source": [
    "save_flights(urls_tomorrow)"
   ]
  },
  {
   "cell_type": "markdown",
   "id": "51c0d5f0",
   "metadata": {},
   "source": [
    "## DEBUG \n",
    "\n",
    "---\n",
    "\n",
    "## Flights parser for start page"
   ]
  },
  {
   "cell_type": "code",
   "execution_count": null,
   "id": "1e14279b",
   "metadata": {},
   "outputs": [],
   "source": [
    "page = requests.get(url_yesterday_0_6)\n",
    "page = BeautifulSoup(page.content, 'html.parser')"
   ]
  },
  {
   "cell_type": "code",
   "execution_count": null,
   "id": "9e94d9e3",
   "metadata": {},
   "outputs": [],
   "source": [
    "flights = page.find_all('div', {'class': 'flight-col flight-col__flight'})\n",
    "flights[:5]"
   ]
  },
  {
   "cell_type": "code",
   "execution_count": null,
   "id": "9ff036c1",
   "metadata": {},
   "outputs": [],
   "source": [
    "flight_urls = np.array([])\n",
    "for flight in flights:\n",
    "    href = flight.find('a')\n",
    "    if href is not None:\n",
    "        flight_urls = np.append(flight_urls, href['href'])"
   ]
  },
  {
   "cell_type": "markdown",
   "id": "41bf293f",
   "metadata": {},
   "source": [
    "---\n",
    "\n",
    "## Flight scanner"
   ]
  },
  {
   "cell_type": "code",
   "execution_count": null,
   "id": "157a0e3f",
   "metadata": {},
   "outputs": [],
   "source": [
    "flight_url = 'https://www.airport-ohare.com/flight-departure/AM683?day=yesterday'\n",
    "flight_url"
   ]
  },
  {
   "cell_type": "code",
   "execution_count": null,
   "id": "b122ccf2",
   "metadata": {},
   "outputs": [],
   "source": [
    "page = requests.get(flight_url)\n",
    "page = BeautifulSoup(page.content, 'html.parser')"
   ]
  },
  {
   "cell_type": "code",
   "execution_count": null,
   "id": "56c9c6eb",
   "metadata": {},
   "outputs": [],
   "source": [
    "scheduled = page.find('div', {'class': 'flight-info__sch-departed'}).text.strip()\n",
    "real =  page.find('div', {'class': 'flight-info__infobox-text'}).text.strip()\n",
    "scheduled, real"
   ]
  },
  {
   "cell_type": "code",
   "execution_count": 8,
   "id": "8a7ffa1a",
   "metadata": {},
   "outputs": [
    {
     "data": {
      "text/plain": [
       "'Departed at:'"
      ]
     },
     "execution_count": 8,
     "metadata": {},
     "output_type": "execute_result"
    }
   ],
   "source": [
    "status = page.find('div', {'class': 'flight-info__infobox-title'}).text.strip()\n",
    "status"
   ]
  },
  {
   "cell_type": "code",
   "execution_count": 9,
   "id": "9178d8b8",
   "metadata": {},
   "outputs": [
    {
     "data": {
      "text/plain": [
       "'AF6741'"
      ]
     },
     "execution_count": 9,
     "metadata": {},
     "output_type": "execute_result"
    }
   ],
   "source": [
    "flight = page.find('h1', {'class': 'heading-primary'}).text.strip().split()[0]\n",
    "flight"
   ]
  },
  {
   "cell_type": "code",
   "execution_count": 111,
   "id": "6396c494",
   "metadata": {},
   "outputs": [
    {
     "data": {
      "text/plain": [
       "'2023-01-09'"
      ]
     },
     "execution_count": 111,
     "metadata": {},
     "output_type": "execute_result"
    }
   ],
   "source": [
    "date = page.find('div', {'class': 'flight-info__date'}).text.strip()\n",
    "date"
   ]
  },
  {
   "cell_type": "code",
   "execution_count": 104,
   "id": "ccaebec1",
   "metadata": {},
   "outputs": [
    {
     "data": {
      "text/plain": [
       "'Atlanta (ATL)'"
      ]
     },
     "execution_count": 104,
     "metadata": {},
     "output_type": "execute_result"
    }
   ],
   "source": [
    "destination = page.find_all('div', {'class': 'flight-info__city'})[-1].text.strip()\n",
    "destination"
   ]
  },
  {
   "cell_type": "markdown",
   "id": "9ae705af",
   "metadata": {},
   "source": [
    "---\n",
    "\n",
    "## Junk"
   ]
  },
  {
   "cell_type": "code",
   "execution_count": 96,
   "id": "d5e1f5cb",
   "metadata": {},
   "outputs": [
    {
     "name": "stdout",
     "output_type": "stream",
     "text": [
      "a\n",
      "a\n",
      "a\n",
      "a\n"
     ]
    }
   ],
   "source": [
    "for _ in range(4):\n",
    "    print('a')\n",
    "    sleep(1)"
   ]
  },
  {
   "cell_type": "code",
   "execution_count": 115,
   "id": "f378d7fa",
   "metadata": {},
   "outputs": [
    {
     "data": {
      "text/html": [
       "<div>\n",
       "<style scoped>\n",
       "    .dataframe tbody tr th:only-of-type {\n",
       "        vertical-align: middle;\n",
       "    }\n",
       "\n",
       "    .dataframe tbody tr th {\n",
       "        vertical-align: top;\n",
       "    }\n",
       "\n",
       "    .dataframe thead th {\n",
       "        text-align: right;\n",
       "    }\n",
       "</style>\n",
       "<table border=\"1\" class=\"dataframe\">\n",
       "  <thead>\n",
       "    <tr style=\"text-align: right;\">\n",
       "      <th></th>\n",
       "      <th>a</th>\n",
       "      <th>b</th>\n",
       "    </tr>\n",
       "  </thead>\n",
       "  <tbody>\n",
       "    <tr>\n",
       "      <th>0</th>\n",
       "      <td>1</td>\n",
       "      <td>8</td>\n",
       "    </tr>\n",
       "    <tr>\n",
       "      <th>1</th>\n",
       "      <td>1</td>\n",
       "      <td>8</td>\n",
       "    </tr>\n",
       "    <tr>\n",
       "      <th>2</th>\n",
       "      <td>1.0</td>\n",
       "      <td>NaN</td>\n",
       "    </tr>\n",
       "  </tbody>\n",
       "</table>\n",
       "</div>"
      ],
      "text/plain": [
       "     a    b\n",
       "0    1    8\n",
       "1    1    8\n",
       "2  1.0  NaN"
      ]
     },
     "execution_count": 115,
     "metadata": {},
     "output_type": "execute_result"
    }
   ],
   "source": [
    "buf = buf.append({'a': 1, 'b': None}, ignore_index=True)\n",
    "buf"
   ]
  },
  {
   "cell_type": "code",
   "execution_count": null,
   "id": "67b688bf",
   "metadata": {},
   "outputs": [],
   "source": []
  }
 ],
 "metadata": {
  "kernelspec": {
   "display_name": "Python 3 (ipykernel)",
   "language": "python",
   "name": "python3"
  },
  "language_info": {
   "codemirror_mode": {
    "name": "ipython",
    "version": 3
   },
   "file_extension": ".py",
   "mimetype": "text/x-python",
   "name": "python",
   "nbconvert_exporter": "python",
   "pygments_lexer": "ipython3",
   "version": "3.10.8"
  },
  "vscode": {
   "interpreter": {
    "hash": "60ab0187f4877a1f26e5bf1c0a2fa1cb16b5dacf3e2c177a244da938b0e0e122"
   }
  }
 },
 "nbformat": 4,
 "nbformat_minor": 5
}
