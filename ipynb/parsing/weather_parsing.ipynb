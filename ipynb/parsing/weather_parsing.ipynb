{
 "cells": [
  {
   "cell_type": "code",
   "execution_count": 1,
   "id": "f2cd9778",
   "metadata": {},
   "outputs": [],
   "source": [
    "import csv\n",
    "import codecs\n",
    "import urllib.request\n",
    "\n",
    "from datetime import date, datetime, timedelta\n",
    "\n",
    "import pandas as pd"
   ]
  },
  {
   "cell_type": "code",
   "execution_count": 2,
   "id": "ad4063fa",
   "metadata": {},
   "outputs": [],
   "source": [
    "base_url = 'https://weather.visualcrossing.com/VisualCrossingWebServices/rest/services/timeline/'\n",
    "api_key = 'BLE78D5FEEXVKV2Z69PXB77SV'\n",
    "unit_group ='us' #metric system\n",
    "location = \"O'Hare,Chicago\"\n",
    "content_type = 'csv'\n",
    "include = 'hours'"
   ]
  },
  {
   "cell_type": "code",
   "execution_count": 4,
   "id": "bf5edff9-61cf-486b-9379-e4284d6c3a27",
   "metadata": {},
   "outputs": [],
   "source": [
    "def form_api_query(date, base_url, api_key, unit_group, location, include):\n",
    "    ''' Combine API query for visualcrossing\n",
    "\n",
    "    :param date: date of weather (exact or prediction)\n",
    "    :param base_url: visualcrossing page address\n",
    "    :param api_key: api key for access\n",
    "    :param unit_group: unit of data\n",
    "    :param location: city and state\n",
    "    :param include: hours or days accuracy\n",
    "    :return: string of query\n",
    "    '''\n",
    "    api_query = base_url + location + '/' + date + \\\n",
    "            '?' + '&unitGroup=' + unit_group + '&contentType=' + \\\n",
    "            content_type + '&include=' + include + '&key=' + api_key\n",
    "    return api_query"
   ]
  },
  {
   "cell_type": "code",
   "execution_count": 8,
   "id": "69126256-b101-40b4-9813-c8614fd8df2f",
   "metadata": {},
   "outputs": [],
   "source": [
    "def get_weather_info_via_api(date, base_url, api_key, unit_group, location, include):\n",
    "    ''' Gets weather data from visualcrossing and creates DataFrame\n",
    "\n",
    "    :param date: date of weather (exact or prediction)\n",
    "    :param base_url: visualcrossing page address\n",
    "    :param api_key: api key for access\n",
    "    :param unit_group: unit of data\n",
    "    :param location: city and state\n",
    "    :param include: hours or days accuracy\n",
    "    :return: string of query\n",
    "    '''\n",
    "    api_query = form_api_query(date, base_url, api_key, unit_group, location, include)\n",
    "    \n",
    "    csv_bytes = urllib.request.urlopen(api_query)\n",
    "    csv_text = csv.reader(codecs.iterdecode(csv_bytes, 'utf-8'))\n",
    "    \n",
    "    columns = next(csv_text)\n",
    "    weather = pd.DataFrame(csv_text, columns=columns).drop(columns=['name', 'stations'])\n",
    "    return weather"
   ]
  },
  {
   "cell_type": "code",
   "execution_count": 14,
   "id": "88e23d26-6751-4ed8-a8a6-5e9653925f42",
   "metadata": {},
   "outputs": [],
   "source": [
    "def save_weather(date, base_url, api_key, unit_group, location, include, file_name=None):\n",
    "    ''' Saves DataFrame with weather info\n",
    "\n",
    "    :param date: date of weather (exact or prediction)\n",
    "    :param base_url: visualcrossing page address\n",
    "    :param api_key: api key for access\n",
    "    :param unit_group: unit of data\n",
    "    :param location: city and state\n",
    "    :param include: hours or days accuracy\n",
    "    :return: string of query\n",
    "    '''\n",
    "    weather = get_weather_info_via_api(date, base_url, api_key, unit_group, location, include)\n",
    "    if file_name is None:\n",
    "        file_name = f'weather_{date}.csv'\n",
    "    weather.to_csv(file_name)"
   ]
  },
  {
   "cell_type": "markdown",
   "id": "b4bc9237-1e33-47e0-8558-db9d2d0f0f35",
   "metadata": {},
   "source": [
    "Run every day approximately at 23:00 (GMT+3, Moscow Time)"
   ]
  },
  {
   "cell_type": "code",
   "execution_count": 15,
   "id": "b003a1f4",
   "metadata": {},
   "outputs": [],
   "source": [
    "yesterday = datetime.strftime(date.today() - timedelta(days=1), '%Y-%m-%d')\n",
    "save_weather(yesterday, base_url, api_key, unit_group, location, include)"
   ]
  },
  {
   "cell_type": "code",
   "execution_count": 16,
   "id": "74e9e25e-13b0-4bf7-abd8-927a6b3f0015",
   "metadata": {},
   "outputs": [],
   "source": [
    "#today = datetime.strftime(date.today(), '%Y-%m-%d')\n",
    "#save_weather(today, base_url, api_key, unit_group, location, include)"
   ]
  },
  {
   "cell_type": "code",
   "execution_count": 17,
   "id": "7e177819-eb05-4855-96dd-fa553f89ed65",
   "metadata": {},
   "outputs": [],
   "source": [
    "tomorrow = datetime.strftime(date.today() + timedelta(days=1), '%Y-%m-%d')\n",
    "save_weather(tomorrow, base_url, api_key, unit_group, location, include)"
   ]
  },
  {
   "cell_type": "code",
   "execution_count": null,
   "id": "35d9d2be-04c4-474f-9a77-f980c97b92b5",
   "metadata": {},
   "outputs": [],
   "source": []
  }
 ],
 "metadata": {
  "kernelspec": {
   "display_name": "Python 3 (ipykernel)",
   "language": "python",
   "name": "python3"
  },
  "language_info": {
   "codemirror_mode": {
    "name": "ipython",
    "version": 3
   },
   "file_extension": ".py",
   "mimetype": "text/x-python",
   "name": "python",
   "nbconvert_exporter": "python",
   "pygments_lexer": "ipython3",
   "version": "3.10.8"
  }
 },
 "nbformat": 4,
 "nbformat_minor": 5
}
