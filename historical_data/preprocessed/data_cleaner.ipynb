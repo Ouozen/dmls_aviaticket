{
 "cells": [
  {
   "cell_type": "markdown",
   "id": "c57968bc",
   "metadata": {},
   "source": [
    "Исходные данные были получены в нескольких файлах, с лишними записями и признаками. \n",
    "\n",
    "В этом ноутбуке производится очистка и подготовка данных для загрузки в базу."
   ]
  },
  {
   "cell_type": "code",
   "execution_count": 74,
   "id": "cef67d5c",
   "metadata": {},
   "outputs": [],
   "source": [
    "import pandas as pd\n",
    "import matplotlib as mpl\n",
    "import matplotlib.pyplot as plt\n",
    "import seaborn as sns"
   ]
  },
  {
   "cell_type": "markdown",
   "id": "adbe02ed",
   "metadata": {},
   "source": [
    "### Предобработка данных отправлений"
   ]
  },
  {
   "cell_type": "code",
   "execution_count": 95,
   "id": "bac94af8",
   "metadata": {},
   "outputs": [],
   "source": [
    "#считываем каждый файл из папки, складываем в массив датафреймов\n",
    "dfs_dep = []\n",
    "dfs_dep.append(pd.read_csv('departures/Detailed_Statistics_Departures.csv'))\n",
    "\n",
    "for i in range(2, 25):\n",
    "    path = 'departures/Detailed_Statistics_Departures-' + str(i) + '.csv'\n",
    "    dfs_dep.append(pd.read_csv(path))\n",
    "    \n",
    "#конкатенируем все датафреймы в один\n",
    "all_departures = pd.concat(dfs_dep)"
   ]
  },
  {
   "cell_type": "code",
   "execution_count": 77,
   "id": "4689ef0d",
   "metadata": {},
   "outputs": [
    {
     "data": {
      "text/plain": [
       "3272931"
      ]
     },
     "execution_count": 77,
     "metadata": {},
     "output_type": "execute_result"
    }
   ],
   "source": [
    "len(all_departures)"
   ]
  },
  {
   "cell_type": "markdown",
   "id": "4b7d17fe",
   "metadata": {},
   "source": [
    "В данных могут быть дубликаты - уберем их"
   ]
  },
  {
   "cell_type": "code",
   "execution_count": 78,
   "id": "0364e3d8",
   "metadata": {},
   "outputs": [],
   "source": [
    "all_departures = all_departures.drop_duplicates()"
   ]
  },
  {
   "cell_type": "code",
   "execution_count": 79,
   "id": "afea401a",
   "metadata": {},
   "outputs": [
    {
     "data": {
      "text/plain": [
       "2653114"
      ]
     },
     "execution_count": 79,
     "metadata": {},
     "output_type": "execute_result"
    }
   ],
   "source": [
    "len(all_departures)"
   ]
  },
  {
   "cell_type": "markdown",
   "id": "d27bde85",
   "metadata": {},
   "source": [
    "Дубликаты действительно были."
   ]
  },
  {
   "cell_type": "code",
   "execution_count": 96,
   "id": "9e449490",
   "metadata": {},
   "outputs": [
    {
     "name": "stdout",
     "output_type": "stream",
     "text": [
      "<class 'pandas.core.frame.DataFrame'>\n",
      "Int64Index: 3272931 entries, 0 to 684707\n",
      "Data columns (total 17 columns):\n",
      " #   Column                                    Dtype \n",
      "---  ------                                    ----- \n",
      " 0   Carrier Code                              object\n",
      " 1   Date (MM/DD/YYYY)                         object\n",
      " 2   Flight Number                             int64 \n",
      " 3   Tail Number                               object\n",
      " 4   Destination Airport                       object\n",
      " 5   Scheduled departure time                  object\n",
      " 6   Actual departure time                     object\n",
      " 7   Scheduled elapsed time (Minutes)          int64 \n",
      " 8   Actual elapsed time (Minutes)             int64 \n",
      " 9   Departure delay (Minutes)                 int64 \n",
      " 10  Wheels-off time                           object\n",
      " 11  Taxi-Out time (Minutes)                   int64 \n",
      " 12  Delay Carrier (Minutes)                   int64 \n",
      " 13  Delay Weather (Minutes)                   int64 \n",
      " 14  Delay National Aviation System (Minutes)  int64 \n",
      " 15  Delay Security (Minutes)                  int64 \n",
      " 16  Delay Late Aircraft Arrival (Minutes)     int64 \n",
      "dtypes: int64(10), object(7)\n",
      "memory usage: 449.5+ MB\n"
     ]
    }
   ],
   "source": [
    "all_departures.info()"
   ]
  },
  {
   "cell_type": "markdown",
   "id": "8b53f8fa",
   "metadata": {},
   "source": [
    "Оставим только нужные нам колонки"
   ]
  },
  {
   "cell_type": "code",
   "execution_count": 97,
   "id": "62674900",
   "metadata": {},
   "outputs": [],
   "source": [
    "all_departures = all_departures[['Carrier Code', \n",
    "                                 'Date (MM/DD/YYYY)', \n",
    "                                 'Flight Number', \n",
    "                                 'Destination Airport', \n",
    "                                 'Scheduled departure time', \n",
    "                                 'Departure delay (Minutes)']]"
   ]
  },
  {
   "cell_type": "code",
   "execution_count": 98,
   "id": "6f694192",
   "metadata": {},
   "outputs": [
    {
     "data": {
      "text/html": [
       "<div>\n",
       "<style scoped>\n",
       "    .dataframe tbody tr th:only-of-type {\n",
       "        vertical-align: middle;\n",
       "    }\n",
       "\n",
       "    .dataframe tbody tr th {\n",
       "        vertical-align: top;\n",
       "    }\n",
       "\n",
       "    .dataframe thead th {\n",
       "        text-align: right;\n",
       "    }\n",
       "</style>\n",
       "<table border=\"1\" class=\"dataframe\">\n",
       "  <thead>\n",
       "    <tr style=\"text-align: right;\">\n",
       "      <th></th>\n",
       "      <th>Carrier Code</th>\n",
       "      <th>Date (MM/DD/YYYY)</th>\n",
       "      <th>Flight Number</th>\n",
       "      <th>Destination Airport</th>\n",
       "      <th>Scheduled departure time</th>\n",
       "      <th>Departure delay (Minutes)</th>\n",
       "    </tr>\n",
       "  </thead>\n",
       "  <tbody>\n",
       "    <tr>\n",
       "      <th>0</th>\n",
       "      <td>VX</td>\n",
       "      <td>01/01/2012</td>\n",
       "      <td>201</td>\n",
       "      <td>SFO</td>\n",
       "      <td>07:00</td>\n",
       "      <td>3</td>\n",
       "    </tr>\n",
       "    <tr>\n",
       "      <th>1</th>\n",
       "      <td>VX</td>\n",
       "      <td>01/01/2012</td>\n",
       "      <td>233</td>\n",
       "      <td>LAX</td>\n",
       "      <td>15:50</td>\n",
       "      <td>12</td>\n",
       "    </tr>\n",
       "    <tr>\n",
       "      <th>2</th>\n",
       "      <td>VX</td>\n",
       "      <td>01/01/2012</td>\n",
       "      <td>811</td>\n",
       "      <td>LAX</td>\n",
       "      <td>08:40</td>\n",
       "      <td>0</td>\n",
       "    </tr>\n",
       "    <tr>\n",
       "      <th>3</th>\n",
       "      <td>VX</td>\n",
       "      <td>01/01/2012</td>\n",
       "      <td>815</td>\n",
       "      <td>LAX</td>\n",
       "      <td>18:30</td>\n",
       "      <td>27</td>\n",
       "    </tr>\n",
       "    <tr>\n",
       "      <th>4</th>\n",
       "      <td>VX</td>\n",
       "      <td>01/01/2012</td>\n",
       "      <td>837</td>\n",
       "      <td>SFO</td>\n",
       "      <td>14:05</td>\n",
       "      <td>-2</td>\n",
       "    </tr>\n",
       "    <tr>\n",
       "      <th>...</th>\n",
       "      <td>...</td>\n",
       "      <td>...</td>\n",
       "      <td>...</td>\n",
       "      <td>...</td>\n",
       "      <td>...</td>\n",
       "      <td>...</td>\n",
       "    </tr>\n",
       "    <tr>\n",
       "      <th>3272926</th>\n",
       "      <td>UA</td>\n",
       "      <td>12/31/2021</td>\n",
       "      <td>2669</td>\n",
       "      <td>EWR</td>\n",
       "      <td>15:45</td>\n",
       "      <td>0</td>\n",
       "    </tr>\n",
       "    <tr>\n",
       "      <th>3272927</th>\n",
       "      <td>UA</td>\n",
       "      <td>12/31/2021</td>\n",
       "      <td>2677</td>\n",
       "      <td>IAD</td>\n",
       "      <td>13:00</td>\n",
       "      <td>-5</td>\n",
       "    </tr>\n",
       "    <tr>\n",
       "      <th>3272928</th>\n",
       "      <td>UA</td>\n",
       "      <td>12/31/2021</td>\n",
       "      <td>2678</td>\n",
       "      <td>IAH</td>\n",
       "      <td>12:45</td>\n",
       "      <td>10</td>\n",
       "    </tr>\n",
       "    <tr>\n",
       "      <th>3272929</th>\n",
       "      <td>UA</td>\n",
       "      <td>12/31/2021</td>\n",
       "      <td>2682</td>\n",
       "      <td>IAH</td>\n",
       "      <td>14:05</td>\n",
       "      <td>1</td>\n",
       "    </tr>\n",
       "    <tr>\n",
       "      <th>3272930</th>\n",
       "      <td>UA</td>\n",
       "      <td>12/31/2021</td>\n",
       "      <td>2684</td>\n",
       "      <td>DEN</td>\n",
       "      <td>10:40</td>\n",
       "      <td>10</td>\n",
       "    </tr>\n",
       "  </tbody>\n",
       "</table>\n",
       "<p>3272931 rows × 6 columns</p>\n",
       "</div>"
      ],
      "text/plain": [
       "        Carrier Code Date (MM/DD/YYYY)  Flight Number Destination Airport  \\\n",
       "0                 VX        01/01/2012            201                 SFO   \n",
       "1                 VX        01/01/2012            233                 LAX   \n",
       "2                 VX        01/01/2012            811                 LAX   \n",
       "3                 VX        01/01/2012            815                 LAX   \n",
       "4                 VX        01/01/2012            837                 SFO   \n",
       "...              ...               ...            ...                 ...   \n",
       "3272926           UA        12/31/2021           2669                 EWR   \n",
       "3272927           UA        12/31/2021           2677                 IAD   \n",
       "3272928           UA        12/31/2021           2678                 IAH   \n",
       "3272929           UA        12/31/2021           2682                 IAH   \n",
       "3272930           UA        12/31/2021           2684                 DEN   \n",
       "\n",
       "        Scheduled departure time  Departure delay (Minutes)  \n",
       "0                          07:00                          3  \n",
       "1                          15:50                         12  \n",
       "2                          08:40                          0  \n",
       "3                          18:30                         27  \n",
       "4                          14:05                         -2  \n",
       "...                          ...                        ...  \n",
       "3272926                    15:45                          0  \n",
       "3272927                    13:00                         -5  \n",
       "3272928                    12:45                         10  \n",
       "3272929                    14:05                          1  \n",
       "3272930                    10:40                         10  \n",
       "\n",
       "[3272931 rows x 6 columns]"
      ]
     },
     "execution_count": 98,
     "metadata": {},
     "output_type": "execute_result"
    }
   ],
   "source": [
    "all_departures.reset_index(drop=True)"
   ]
  },
  {
   "cell_type": "markdown",
   "id": "5df5f82c",
   "metadata": {},
   "source": [
    "Мы в команде договорились об определенном названии и формате колонок - чтобы онлайн поступающие данные не конфликтовали. Приведем наши датасеты в такой вид"
   ]
  },
  {
   "cell_type": "code",
   "execution_count": 99,
   "id": "a53c7743",
   "metadata": {},
   "outputs": [],
   "source": [
    "all_departures['Date'] = pd.to_datetime(all_departures['Date (MM/DD/YYYY)'])\n",
    "all_departures = all_departures.drop(columns = ['Date (MM/DD/YYYY)'])\n",
    "\n",
    "#переименуем колонки\n",
    "all_departures = all_departures.rename(columns={\"Flight Number\":\"Flight\",\n",
    "                                                \"Destination Airport\" : \"Destination airport\",\n",
    "                                                \"Scheduled departure time\" : \"Scheduled time\",\n",
    "                                                 \"Departure delay (Minutes)\" : \"Delay\"})"
   ]
  },
  {
   "cell_type": "markdown",
   "id": "029b3b12",
   "metadata": {},
   "source": [
    "Так как наша модель будет учиться на данных за год - отрежем лишние данные и сэкономим место"
   ]
  },
  {
   "cell_type": "code",
   "execution_count": 86,
   "id": "5542a70d",
   "metadata": {},
   "outputs": [],
   "source": [
    "all_departures = all_departures[all_departures.Date >= pd.to_datetime('2021-11-01')]"
   ]
  },
  {
   "cell_type": "markdown",
   "id": "4c4a4a61",
   "metadata": {},
   "source": [
    "Добавим колонку Datetime. Она будет не очень полезна для обучения модели, но нужна для склейки данных вылета с данными погоды"
   ]
  },
  {
   "cell_type": "code",
   "execution_count": 88,
   "id": "9472b1cb",
   "metadata": {},
   "outputs": [],
   "source": [
    "all_departures['Datetime'] = pd.to_datetime(\n",
    "    all_departures['Date'].astype(str) + ' ' + all_departures['Scheduled time'].astype(str))"
   ]
  },
  {
   "cell_type": "markdown",
   "id": "f936d04d",
   "metadata": {},
   "source": [
    "Посмотрим, сколько строк нужно будет сложить в базу"
   ]
  },
  {
   "cell_type": "code",
   "execution_count": 89,
   "id": "48ca347d",
   "metadata": {},
   "outputs": [
    {
     "data": {
      "text/plain": [
       "264272"
      ]
     },
     "execution_count": 89,
     "metadata": {},
     "output_type": "execute_result"
    }
   ],
   "source": [
    "len(all_departures)"
   ]
  },
  {
   "cell_type": "markdown",
   "id": "55fd9453",
   "metadata": {},
   "source": [
    "Это адекватное количество, наша база с этим справится. Последний раз посмотрим на данные:"
   ]
  },
  {
   "cell_type": "code",
   "execution_count": 92,
   "id": "34128990",
   "metadata": {},
   "outputs": [
    {
     "data": {
      "text/html": [
       "<div>\n",
       "<style scoped>\n",
       "    .dataframe tbody tr th:only-of-type {\n",
       "        vertical-align: middle;\n",
       "    }\n",
       "\n",
       "    .dataframe tbody tr th {\n",
       "        vertical-align: top;\n",
       "    }\n",
       "\n",
       "    .dataframe thead th {\n",
       "        text-align: right;\n",
       "    }\n",
       "</style>\n",
       "<table border=\"1\" class=\"dataframe\">\n",
       "  <thead>\n",
       "    <tr style=\"text-align: right;\">\n",
       "      <th></th>\n",
       "      <th>Carrier Code</th>\n",
       "      <th>Flight</th>\n",
       "      <th>Destination airport</th>\n",
       "      <th>Scheduled time</th>\n",
       "      <th>Delay</th>\n",
       "      <th>Date</th>\n",
       "      <th>Datetime</th>\n",
       "    </tr>\n",
       "  </thead>\n",
       "  <tbody>\n",
       "    <tr>\n",
       "      <th>0</th>\n",
       "      <td>AS</td>\n",
       "      <td>27</td>\n",
       "      <td>SEA</td>\n",
       "      <td>09:45</td>\n",
       "      <td>159</td>\n",
       "      <td>2022-01-01</td>\n",
       "      <td>2022-01-01 09:45:00</td>\n",
       "    </tr>\n",
       "    <tr>\n",
       "      <th>1</th>\n",
       "      <td>AS</td>\n",
       "      <td>39</td>\n",
       "      <td>SEA</td>\n",
       "      <td>17:29</td>\n",
       "      <td>23</td>\n",
       "      <td>2022-01-01</td>\n",
       "      <td>2022-01-01 17:29:00</td>\n",
       "    </tr>\n",
       "    <tr>\n",
       "      <th>2</th>\n",
       "      <td>AS</td>\n",
       "      <td>139</td>\n",
       "      <td>ANC</td>\n",
       "      <td>07:05</td>\n",
       "      <td>115</td>\n",
       "      <td>2022-01-01</td>\n",
       "      <td>2022-01-01 07:05:00</td>\n",
       "    </tr>\n",
       "    <tr>\n",
       "      <th>3</th>\n",
       "      <td>AS</td>\n",
       "      <td>1011</td>\n",
       "      <td>SEA</td>\n",
       "      <td>07:45</td>\n",
       "      <td>3</td>\n",
       "      <td>2022-01-01</td>\n",
       "      <td>2022-01-01 07:45:00</td>\n",
       "    </tr>\n",
       "    <tr>\n",
       "      <th>4</th>\n",
       "      <td>AS</td>\n",
       "      <td>1013</td>\n",
       "      <td>SEA</td>\n",
       "      <td>15:35</td>\n",
       "      <td>37</td>\n",
       "      <td>2022-01-01</td>\n",
       "      <td>2022-01-01 15:35:00</td>\n",
       "    </tr>\n",
       "    <tr>\n",
       "      <th>...</th>\n",
       "      <td>...</td>\n",
       "      <td>...</td>\n",
       "      <td>...</td>\n",
       "      <td>...</td>\n",
       "      <td>...</td>\n",
       "      <td>...</td>\n",
       "      <td>...</td>\n",
       "    </tr>\n",
       "    <tr>\n",
       "      <th>264267</th>\n",
       "      <td>UA</td>\n",
       "      <td>2669</td>\n",
       "      <td>EWR</td>\n",
       "      <td>15:45</td>\n",
       "      <td>0</td>\n",
       "      <td>2021-12-31</td>\n",
       "      <td>2021-12-31 15:45:00</td>\n",
       "    </tr>\n",
       "    <tr>\n",
       "      <th>264268</th>\n",
       "      <td>UA</td>\n",
       "      <td>2677</td>\n",
       "      <td>IAD</td>\n",
       "      <td>13:00</td>\n",
       "      <td>-5</td>\n",
       "      <td>2021-12-31</td>\n",
       "      <td>2021-12-31 13:00:00</td>\n",
       "    </tr>\n",
       "    <tr>\n",
       "      <th>264269</th>\n",
       "      <td>UA</td>\n",
       "      <td>2678</td>\n",
       "      <td>IAH</td>\n",
       "      <td>12:45</td>\n",
       "      <td>10</td>\n",
       "      <td>2021-12-31</td>\n",
       "      <td>2021-12-31 12:45:00</td>\n",
       "    </tr>\n",
       "    <tr>\n",
       "      <th>264270</th>\n",
       "      <td>UA</td>\n",
       "      <td>2682</td>\n",
       "      <td>IAH</td>\n",
       "      <td>14:05</td>\n",
       "      <td>1</td>\n",
       "      <td>2021-12-31</td>\n",
       "      <td>2021-12-31 14:05:00</td>\n",
       "    </tr>\n",
       "    <tr>\n",
       "      <th>264271</th>\n",
       "      <td>UA</td>\n",
       "      <td>2684</td>\n",
       "      <td>DEN</td>\n",
       "      <td>10:40</td>\n",
       "      <td>10</td>\n",
       "      <td>2021-12-31</td>\n",
       "      <td>2021-12-31 10:40:00</td>\n",
       "    </tr>\n",
       "  </tbody>\n",
       "</table>\n",
       "<p>264272 rows × 7 columns</p>\n",
       "</div>"
      ],
      "text/plain": [
       "       Carrier Code  Flight Destination airport Scheduled time  Delay  \\\n",
       "0                AS      27                 SEA          09:45    159   \n",
       "1                AS      39                 SEA          17:29     23   \n",
       "2                AS     139                 ANC          07:05    115   \n",
       "3                AS    1011                 SEA          07:45      3   \n",
       "4                AS    1013                 SEA          15:35     37   \n",
       "...             ...     ...                 ...            ...    ...   \n",
       "264267           UA    2669                 EWR          15:45      0   \n",
       "264268           UA    2677                 IAD          13:00     -5   \n",
       "264269           UA    2678                 IAH          12:45     10   \n",
       "264270           UA    2682                 IAH          14:05      1   \n",
       "264271           UA    2684                 DEN          10:40     10   \n",
       "\n",
       "             Date            Datetime  \n",
       "0      2022-01-01 2022-01-01 09:45:00  \n",
       "1      2022-01-01 2022-01-01 17:29:00  \n",
       "2      2022-01-01 2022-01-01 07:05:00  \n",
       "3      2022-01-01 2022-01-01 07:45:00  \n",
       "4      2022-01-01 2022-01-01 15:35:00  \n",
       "...           ...                 ...  \n",
       "264267 2021-12-31 2021-12-31 15:45:00  \n",
       "264268 2021-12-31 2021-12-31 13:00:00  \n",
       "264269 2021-12-31 2021-12-31 12:45:00  \n",
       "264270 2021-12-31 2021-12-31 14:05:00  \n",
       "264271 2021-12-31 2021-12-31 10:40:00  \n",
       "\n",
       "[264272 rows x 7 columns]"
      ]
     },
     "execution_count": 92,
     "metadata": {},
     "output_type": "execute_result"
    }
   ],
   "source": [
    "all_departures = all_departures.reset_index(drop=True)\n",
    "all_departures"
   ]
  },
  {
   "cell_type": "markdown",
   "id": "25f8e250",
   "metadata": {},
   "source": [
    "Убедимся, что пробелов в данных нет"
   ]
  },
  {
   "cell_type": "code",
   "execution_count": 94,
   "id": "fb6989ab",
   "metadata": {},
   "outputs": [
    {
     "data": {
      "text/plain": [
       "[<matplotlib.lines.Line2D at 0x18014e650>]"
      ]
     },
     "execution_count": 94,
     "metadata": {},
     "output_type": "execute_result"
    },
    {
     "data": {
      "image/png": "[encoded data removed]",
      "text/plain": [
       "<Figure size 640x480 with 1 Axes>"
      ]
     },
     "metadata": {},
     "output_type": "display_data"
    }
   ],
   "source": [
    "plt.plot(all_departures.Datetime, all_departures.Delay)"
   ]
  },
  {
   "cell_type": "markdown",
   "id": "7c3bea21",
   "metadata": {},
   "source": [
    "И сохраним в файл, который потом загрузим в базу"
   ]
  },
  {
   "cell_type": "code",
   "execution_count": 93,
   "id": "43b40b49",
   "metadata": {},
   "outputs": [],
   "source": [
    "all_departures.to_csv(\"Delays_historical.csv\")"
   ]
  },
  {
   "cell_type": "markdown",
   "id": "2f6fda00",
   "metadata": {},
   "source": [
    "### Предобработка данных погоды\n"
   ]
  },
  {
   "cell_type": "markdown",
   "id": "0c1c4a49",
   "metadata": {},
   "source": [
    " Так же, как и с отправлениями, считываем файлы в массив датафреймов и склеиваем в один датафрейм"
   ]
  },
  {
   "cell_type": "code",
   "execution_count": 103,
   "id": "0ea69a3d",
   "metadata": {},
   "outputs": [],
   "source": [
    "dfs_weather = []\n",
    "dfs_weather.append(pd.read_csv('weather/weather 1.csv'))\n",
    "for i in range(2, 15):\n",
    "    path = 'weather/weather ' + str(i) + '.csv'\n",
    "    dfs_weather.append(pd.read_csv(path))\n",
    "\n",
    "all_weather = pd.concat(dfs_weather)"
   ]
  },
  {
   "cell_type": "code",
   "execution_count": 104,
   "id": "f0b866f4",
   "metadata": {},
   "outputs": [
    {
     "data": {
      "text/plain": [
       "10753"
      ]
     },
     "execution_count": 104,
     "metadata": {},
     "output_type": "execute_result"
    }
   ],
   "source": [
    "len(all_weather)"
   ]
  },
  {
   "cell_type": "markdown",
   "id": "09bef0fa",
   "metadata": {},
   "source": [
    "Попробуем убрать дубликаты"
   ]
  },
  {
   "cell_type": "code",
   "execution_count": 106,
   "id": "a8837e50",
   "metadata": {},
   "outputs": [
    {
     "data": {
      "text/plain": [
       "10753"
      ]
     },
     "execution_count": 106,
     "metadata": {},
     "output_type": "execute_result"
    }
   ],
   "source": [
    "all_weather = all_weather.drop_duplicates()\n",
    "len(all_weather)"
   ]
  },
  {
   "cell_type": "markdown",
   "id": "e2564c6a",
   "metadata": {},
   "source": [
    "Их не было"
   ]
  },
  {
   "cell_type": "code",
   "execution_count": 107,
   "id": "c3fe233c",
   "metadata": {},
   "outputs": [
    {
     "name": "stdout",
     "output_type": "stream",
     "text": [
      "<class 'pandas.core.frame.DataFrame'>\n",
      "Int64Index: 10753 entries, 0 to 983\n",
      "Data columns (total 24 columns):\n",
      " #   Column            Non-Null Count  Dtype  \n",
      "---  ------            --------------  -----  \n",
      " 0   name              10009 non-null  object \n",
      " 1   datetime          10753 non-null  object \n",
      " 2   temp              10753 non-null  float64\n",
      " 3   feelslike         10753 non-null  float64\n",
      " 4   dew               10753 non-null  float64\n",
      " 5   humidity          10753 non-null  float64\n",
      " 6   precip            10753 non-null  float64\n",
      " 7   precipprob        10753 non-null  float64\n",
      " 8   preciptype        1072 non-null   object \n",
      " 9   snow              10674 non-null  float64\n",
      " 10  snowdepth         10753 non-null  float64\n",
      " 11  windgust          9360 non-null   float64\n",
      " 12  windspeed         10753 non-null  float64\n",
      " 13  winddir           10753 non-null  float64\n",
      " 14  sealevelpressure  10753 non-null  float64\n",
      " 15  cloudcover        10753 non-null  float64\n",
      " 16  visibility        10753 non-null  float64\n",
      " 17  solarradiation    9586 non-null   float64\n",
      " 18  solarenergy       5811 non-null   float64\n",
      " 19  uvindex           9586 non-null   float64\n",
      " 20  severerisk        8544 non-null   float64\n",
      " 21  conditions        10753 non-null  object \n",
      " 22  icon              10009 non-null  object \n",
      " 23  stations          9664 non-null   object \n",
      "dtypes: float64(18), object(6)\n",
      "memory usage: 2.1+ MB\n"
     ]
    }
   ],
   "source": [
    "all_weather.info()"
   ]
  },
  {
   "cell_type": "markdown",
   "id": "d80b4c52",
   "metadata": {},
   "source": [
    "Приведем данные нужному виду: уберем лишние колонки и приведем к нужному типу"
   ]
  },
  {
   "cell_type": "code",
   "execution_count": null,
   "id": "d72f2e02",
   "metadata": {},
   "outputs": [],
   "source": [
    "all_weather = all_weather.drop(columns=['stations', 'name'])\n",
    "all_weather['datetime'] = pd.to_datetime(all_weather.datetime)\n",
    "all_weather = all_weather.sort_values(by=['datetime'])"
   ]
  },
  {
   "cell_type": "code",
   "execution_count": 109,
   "id": "53595c02",
   "metadata": {},
   "outputs": [
    {
     "data": {
      "text/html": [
       "<div>\n",
       "<style scoped>\n",
       "    .dataframe tbody tr th:only-of-type {\n",
       "        vertical-align: middle;\n",
       "    }\n",
       "\n",
       "    .dataframe tbody tr th {\n",
       "        vertical-align: top;\n",
       "    }\n",
       "\n",
       "    .dataframe thead th {\n",
       "        text-align: right;\n",
       "    }\n",
       "</style>\n",
       "<table border=\"1\" class=\"dataframe\">\n",
       "  <thead>\n",
       "    <tr style=\"text-align: right;\">\n",
       "      <th></th>\n",
       "      <th>name</th>\n",
       "      <th>datetime</th>\n",
       "      <th>temp</th>\n",
       "      <th>feelslike</th>\n",
       "      <th>dew</th>\n",
       "      <th>humidity</th>\n",
       "      <th>precip</th>\n",
       "      <th>precipprob</th>\n",
       "      <th>preciptype</th>\n",
       "      <th>snow</th>\n",
       "      <th>...</th>\n",
       "      <th>sealevelpressure</th>\n",
       "      <th>cloudcover</th>\n",
       "      <th>visibility</th>\n",
       "      <th>solarradiation</th>\n",
       "      <th>solarenergy</th>\n",
       "      <th>uvindex</th>\n",
       "      <th>severerisk</th>\n",
       "      <th>conditions</th>\n",
       "      <th>icon</th>\n",
       "      <th>stations</th>\n",
       "    </tr>\n",
       "  </thead>\n",
       "  <tbody>\n",
       "    <tr>\n",
       "      <th>0</th>\n",
       "      <td>O'Hare Chicago</td>\n",
       "      <td>2021-11-01T00:00:00</td>\n",
       "      <td>39.8</td>\n",
       "      <td>34.5</td>\n",
       "      <td>29.7</td>\n",
       "      <td>66.84</td>\n",
       "      <td>0.0</td>\n",
       "      <td>0.0</td>\n",
       "      <td>NaN</td>\n",
       "      <td>0.0</td>\n",
       "      <td>...</td>\n",
       "      <td>1022.3</td>\n",
       "      <td>0.0</td>\n",
       "      <td>9.9</td>\n",
       "      <td>NaN</td>\n",
       "      <td>NaN</td>\n",
       "      <td>NaN</td>\n",
       "      <td>NaN</td>\n",
       "      <td>Clear</td>\n",
       "      <td>clear-night</td>\n",
       "      <td>72534014819,KORD,72530094846,KMDW,74466504838,...</td>\n",
       "    </tr>\n",
       "    <tr>\n",
       "      <th>1</th>\n",
       "      <td>O'Hare Chicago</td>\n",
       "      <td>2021-11-01T01:00:00</td>\n",
       "      <td>39.0</td>\n",
       "      <td>33.5</td>\n",
       "      <td>28.9</td>\n",
       "      <td>66.93</td>\n",
       "      <td>0.0</td>\n",
       "      <td>0.0</td>\n",
       "      <td>NaN</td>\n",
       "      <td>0.0</td>\n",
       "      <td>...</td>\n",
       "      <td>1022.7</td>\n",
       "      <td>0.0</td>\n",
       "      <td>9.9</td>\n",
       "      <td>NaN</td>\n",
       "      <td>NaN</td>\n",
       "      <td>NaN</td>\n",
       "      <td>NaN</td>\n",
       "      <td>Clear</td>\n",
       "      <td>clear-night</td>\n",
       "      <td>72534014819,KORD,72530094846,KMDW,74466504838,...</td>\n",
       "    </tr>\n",
       "    <tr>\n",
       "      <th>2</th>\n",
       "      <td>O'Hare Chicago</td>\n",
       "      <td>2021-11-01T02:00:00</td>\n",
       "      <td>38.2</td>\n",
       "      <td>32.9</td>\n",
       "      <td>28.9</td>\n",
       "      <td>68.76</td>\n",
       "      <td>0.0</td>\n",
       "      <td>0.0</td>\n",
       "      <td>NaN</td>\n",
       "      <td>0.0</td>\n",
       "      <td>...</td>\n",
       "      <td>1022.8</td>\n",
       "      <td>0.0</td>\n",
       "      <td>9.9</td>\n",
       "      <td>NaN</td>\n",
       "      <td>NaN</td>\n",
       "      <td>NaN</td>\n",
       "      <td>NaN</td>\n",
       "      <td>Clear</td>\n",
       "      <td>clear-night</td>\n",
       "      <td>72534014819,KORD,72530094846,KMDW,74466504838,...</td>\n",
       "    </tr>\n",
       "    <tr>\n",
       "      <th>3</th>\n",
       "      <td>O'Hare Chicago</td>\n",
       "      <td>2021-11-01T03:00:00</td>\n",
       "      <td>37.3</td>\n",
       "      <td>31.9</td>\n",
       "      <td>28.9</td>\n",
       "      <td>71.23</td>\n",
       "      <td>0.0</td>\n",
       "      <td>0.0</td>\n",
       "      <td>NaN</td>\n",
       "      <td>0.0</td>\n",
       "      <td>...</td>\n",
       "      <td>1023.2</td>\n",
       "      <td>0.0</td>\n",
       "      <td>9.9</td>\n",
       "      <td>NaN</td>\n",
       "      <td>NaN</td>\n",
       "      <td>NaN</td>\n",
       "      <td>NaN</td>\n",
       "      <td>Clear</td>\n",
       "      <td>clear-night</td>\n",
       "      <td>72534014819,KORD,72530094846,KMDW,74466504838,...</td>\n",
       "    </tr>\n",
       "    <tr>\n",
       "      <th>4</th>\n",
       "      <td>O'Hare Chicago</td>\n",
       "      <td>2021-11-01T04:00:00</td>\n",
       "      <td>37.2</td>\n",
       "      <td>31.9</td>\n",
       "      <td>28.9</td>\n",
       "      <td>71.76</td>\n",
       "      <td>0.0</td>\n",
       "      <td>0.0</td>\n",
       "      <td>NaN</td>\n",
       "      <td>0.0</td>\n",
       "      <td>...</td>\n",
       "      <td>1023.6</td>\n",
       "      <td>0.0</td>\n",
       "      <td>9.9</td>\n",
       "      <td>NaN</td>\n",
       "      <td>NaN</td>\n",
       "      <td>NaN</td>\n",
       "      <td>NaN</td>\n",
       "      <td>Clear</td>\n",
       "      <td>clear-night</td>\n",
       "      <td>72534014819,KORD,72530094846,KMDW,74466504838,...</td>\n",
       "    </tr>\n",
       "    <tr>\n",
       "      <th>...</th>\n",
       "      <td>...</td>\n",
       "      <td>...</td>\n",
       "      <td>...</td>\n",
       "      <td>...</td>\n",
       "      <td>...</td>\n",
       "      <td>...</td>\n",
       "      <td>...</td>\n",
       "      <td>...</td>\n",
       "      <td>...</td>\n",
       "      <td>...</td>\n",
       "      <td>...</td>\n",
       "      <td>...</td>\n",
       "      <td>...</td>\n",
       "      <td>...</td>\n",
       "      <td>...</td>\n",
       "      <td>...</td>\n",
       "      <td>...</td>\n",
       "      <td>...</td>\n",
       "      <td>...</td>\n",
       "      <td>...</td>\n",
       "      <td>...</td>\n",
       "    </tr>\n",
       "    <tr>\n",
       "      <th>10748</th>\n",
       "      <td>O'hare Chicago</td>\n",
       "      <td>2022-12-21T19:00:00</td>\n",
       "      <td>-0.7</td>\n",
       "      <td>-3.1</td>\n",
       "      <td>-3.9</td>\n",
       "      <td>78.45</td>\n",
       "      <td>0.0</td>\n",
       "      <td>0.0</td>\n",
       "      <td>NaN</td>\n",
       "      <td>0.0</td>\n",
       "      <td>...</td>\n",
       "      <td>1024.0</td>\n",
       "      <td>100.0</td>\n",
       "      <td>11.3</td>\n",
       "      <td>0.0</td>\n",
       "      <td>NaN</td>\n",
       "      <td>0.0</td>\n",
       "      <td>10.0</td>\n",
       "      <td>Overcast</td>\n",
       "      <td>cloudy</td>\n",
       "      <td>72534014819,KORD,72530094846,KMDW,74466504838,...</td>\n",
       "    </tr>\n",
       "    <tr>\n",
       "      <th>10749</th>\n",
       "      <td>O'hare Chicago</td>\n",
       "      <td>2022-12-21T20:00:00</td>\n",
       "      <td>-0.7</td>\n",
       "      <td>-4.2</td>\n",
       "      <td>-3.9</td>\n",
       "      <td>78.42</td>\n",
       "      <td>0.0</td>\n",
       "      <td>0.0</td>\n",
       "      <td>NaN</td>\n",
       "      <td>0.0</td>\n",
       "      <td>...</td>\n",
       "      <td>1022.6</td>\n",
       "      <td>97.4</td>\n",
       "      <td>11.2</td>\n",
       "      <td>0.0</td>\n",
       "      <td>NaN</td>\n",
       "      <td>0.0</td>\n",
       "      <td>10.0</td>\n",
       "      <td>Overcast</td>\n",
       "      <td>cloudy</td>\n",
       "      <td>72534014819,KORD,72530094846,KMDW,74466504838,...</td>\n",
       "    </tr>\n",
       "    <tr>\n",
       "      <th>10750</th>\n",
       "      <td>O'hare Chicago</td>\n",
       "      <td>2022-12-21T21:00:00</td>\n",
       "      <td>-0.6</td>\n",
       "      <td>-3.2</td>\n",
       "      <td>-3.3</td>\n",
       "      <td>81.90</td>\n",
       "      <td>0.0</td>\n",
       "      <td>0.0</td>\n",
       "      <td>NaN</td>\n",
       "      <td>0.0</td>\n",
       "      <td>...</td>\n",
       "      <td>1021.6</td>\n",
       "      <td>96.5</td>\n",
       "      <td>10.9</td>\n",
       "      <td>0.0</td>\n",
       "      <td>NaN</td>\n",
       "      <td>0.0</td>\n",
       "      <td>10.0</td>\n",
       "      <td>Overcast</td>\n",
       "      <td>cloudy</td>\n",
       "      <td>72534014819,KORD,72530094846,KMDW,74466504838,...</td>\n",
       "    </tr>\n",
       "    <tr>\n",
       "      <th>10751</th>\n",
       "      <td>O'hare Chicago</td>\n",
       "      <td>2022-12-21T22:00:00</td>\n",
       "      <td>0.0</td>\n",
       "      <td>-3.5</td>\n",
       "      <td>-3.3</td>\n",
       "      <td>78.66</td>\n",
       "      <td>0.0</td>\n",
       "      <td>0.0</td>\n",
       "      <td>NaN</td>\n",
       "      <td>0.0</td>\n",
       "      <td>...</td>\n",
       "      <td>1020.9</td>\n",
       "      <td>100.0</td>\n",
       "      <td>10.9</td>\n",
       "      <td>0.0</td>\n",
       "      <td>NaN</td>\n",
       "      <td>0.0</td>\n",
       "      <td>10.0</td>\n",
       "      <td>Overcast</td>\n",
       "      <td>cloudy</td>\n",
       "      <td>72534014819,KORD,72530094846,KMDW,74466504838,...</td>\n",
       "    </tr>\n",
       "    <tr>\n",
       "      <th>10752</th>\n",
       "      <td>O'hare Chicago</td>\n",
       "      <td>2022-12-21T23:00:00</td>\n",
       "      <td>0.0</td>\n",
       "      <td>-3.9</td>\n",
       "      <td>-3.2</td>\n",
       "      <td>78.60</td>\n",
       "      <td>0.0</td>\n",
       "      <td>0.0</td>\n",
       "      <td>NaN</td>\n",
       "      <td>0.0</td>\n",
       "      <td>...</td>\n",
       "      <td>1019.7</td>\n",
       "      <td>90.1</td>\n",
       "      <td>10.1</td>\n",
       "      <td>0.0</td>\n",
       "      <td>NaN</td>\n",
       "      <td>0.0</td>\n",
       "      <td>10.0</td>\n",
       "      <td>Overcast</td>\n",
       "      <td>cloudy</td>\n",
       "      <td>72534014819,KORD,72530094846,KMDW,74466504838,...</td>\n",
       "    </tr>\n",
       "  </tbody>\n",
       "</table>\n",
       "<p>10753 rows × 24 columns</p>\n",
       "</div>"
      ],
      "text/plain": [
       "                 name             datetime  temp  feelslike   dew  humidity  \\\n",
       "0      O'Hare Chicago  2021-11-01T00:00:00  39.8       34.5  29.7     66.84   \n",
       "1      O'Hare Chicago  2021-11-01T01:00:00  39.0       33.5  28.9     66.93   \n",
       "2      O'Hare Chicago  2021-11-01T02:00:00  38.2       32.9  28.9     68.76   \n",
       "3      O'Hare Chicago  2021-11-01T03:00:00  37.3       31.9  28.9     71.23   \n",
       "4      O'Hare Chicago  2021-11-01T04:00:00  37.2       31.9  28.9     71.76   \n",
       "...               ...                  ...   ...        ...   ...       ...   \n",
       "10748  O'hare Chicago  2022-12-21T19:00:00  -0.7       -3.1  -3.9     78.45   \n",
       "10749  O'hare Chicago  2022-12-21T20:00:00  -0.7       -4.2  -3.9     78.42   \n",
       "10750  O'hare Chicago  2022-12-21T21:00:00  -0.6       -3.2  -3.3     81.90   \n",
       "10751  O'hare Chicago  2022-12-21T22:00:00   0.0       -3.5  -3.3     78.66   \n",
       "10752  O'hare Chicago  2022-12-21T23:00:00   0.0       -3.9  -3.2     78.60   \n",
       "\n",
       "       precip  precipprob preciptype  snow  ...  sealevelpressure  cloudcover  \\\n",
       "0         0.0         0.0        NaN   0.0  ...            1022.3         0.0   \n",
       "1         0.0         0.0        NaN   0.0  ...            1022.7         0.0   \n",
       "2         0.0         0.0        NaN   0.0  ...            1022.8         0.0   \n",
       "3         0.0         0.0        NaN   0.0  ...            1023.2         0.0   \n",
       "4         0.0         0.0        NaN   0.0  ...            1023.6         0.0   \n",
       "...       ...         ...        ...   ...  ...               ...         ...   \n",
       "10748     0.0         0.0        NaN   0.0  ...            1024.0       100.0   \n",
       "10749     0.0         0.0        NaN   0.0  ...            1022.6        97.4   \n",
       "10750     0.0         0.0        NaN   0.0  ...            1021.6        96.5   \n",
       "10751     0.0         0.0        NaN   0.0  ...            1020.9       100.0   \n",
       "10752     0.0         0.0        NaN   0.0  ...            1019.7        90.1   \n",
       "\n",
       "       visibility  solarradiation  solarenergy  uvindex  severerisk  \\\n",
       "0             9.9             NaN          NaN      NaN         NaN   \n",
       "1             9.9             NaN          NaN      NaN         NaN   \n",
       "2             9.9             NaN          NaN      NaN         NaN   \n",
       "3             9.9             NaN          NaN      NaN         NaN   \n",
       "4             9.9             NaN          NaN      NaN         NaN   \n",
       "...           ...             ...          ...      ...         ...   \n",
       "10748        11.3             0.0          NaN      0.0        10.0   \n",
       "10749        11.2             0.0          NaN      0.0        10.0   \n",
       "10750        10.9             0.0          NaN      0.0        10.0   \n",
       "10751        10.9             0.0          NaN      0.0        10.0   \n",
       "10752        10.1             0.0          NaN      0.0        10.0   \n",
       "\n",
       "       conditions         icon  \\\n",
       "0           Clear  clear-night   \n",
       "1           Clear  clear-night   \n",
       "2           Clear  clear-night   \n",
       "3           Clear  clear-night   \n",
       "4           Clear  clear-night   \n",
       "...           ...          ...   \n",
       "10748    Overcast       cloudy   \n",
       "10749    Overcast       cloudy   \n",
       "10750    Overcast       cloudy   \n",
       "10751    Overcast       cloudy   \n",
       "10752    Overcast       cloudy   \n",
       "\n",
       "                                                stations  \n",
       "0      72534014819,KORD,72530094846,KMDW,74466504838,...  \n",
       "1      72534014819,KORD,72530094846,KMDW,74466504838,...  \n",
       "2      72534014819,KORD,72530094846,KMDW,74466504838,...  \n",
       "3      72534014819,KORD,72530094846,KMDW,74466504838,...  \n",
       "4      72534014819,KORD,72530094846,KMDW,74466504838,...  \n",
       "...                                                  ...  \n",
       "10748  72534014819,KORD,72530094846,KMDW,74466504838,...  \n",
       "10749  72534014819,KORD,72530094846,KMDW,74466504838,...  \n",
       "10750  72534014819,KORD,72530094846,KMDW,74466504838,...  \n",
       "10751  72534014819,KORD,72530094846,KMDW,74466504838,...  \n",
       "10752  72534014819,KORD,72530094846,KMDW,74466504838,...  \n",
       "\n",
       "[10753 rows x 24 columns]"
      ]
     },
     "execution_count": 109,
     "metadata": {},
     "output_type": "execute_result"
    }
   ],
   "source": [
    "all_weather.reset_index(drop=True)"
   ]
  },
  {
   "cell_type": "markdown",
   "id": "93c8e854",
   "metadata": {},
   "source": [
    "Убедимся, что данные есть за все нужные даты"
   ]
  },
  {
   "cell_type": "code",
   "execution_count": 110,
   "id": "8afc4157",
   "metadata": {},
   "outputs": [
    {
     "data": {
      "text/plain": [
       "[<matplotlib.lines.Line2D at 0x16b33bd90>]"
      ]
     },
     "execution_count": 110,
     "metadata": {},
     "output_type": "execute_result"
    },
    {
     "data": {
      "image/png": "[encoded data removed]",
      "text/plain": [
       "<Figure size 640x480 with 1 Axes>"
      ]
     },
     "metadata": {},
     "output_type": "display_data"
    }
   ],
   "source": [
    "plt.plot(all_weather.datetime, all_weather.temp)"
   ]
  },
  {
   "cell_type": "markdown",
   "id": "9d41afb6",
   "metadata": {},
   "source": [
    "И сохраним в файл, который загрузим в базу"
   ]
  },
  {
   "cell_type": "code",
   "execution_count": 111,
   "id": "235ec568",
   "metadata": {},
   "outputs": [],
   "source": [
    "all_weather.to_csv(\"weather_historical.csv\")"
   ]
  }
 ],
 "metadata": {
  "kernelspec": {
   "display_name": "Python 3 (ipykernel)",
   "language": "python",
   "name": "python3"
  },
  "language_info": {
   "codemirror_mode": {
    "name": "ipython",
    "version": 3
   },
   "file_extension": ".py",
   "mimetype": "text/x-python",
   "name": "python",
   "nbconvert_exporter": "python",
   "pygments_lexer": "ipython3",
   "version": "3.10.8"
  }
 },
 "nbformat": 4,
 "nbformat_minor": 5
}
