{
 "cells": [
  {
   "cell_type": "code",
   "execution_count": 1,
   "id": "19489205-5346-4dba-9aef-194bdc20fdbe",
   "metadata": {},
   "outputs": [],
   "source": [
    "import sys  \n",
    "sys.path.insert(0, '../')\n",
    "\n",
    "from connection_to_db import connection\n",
    "\n",
    "sys.path.insert(0, '/')\n",
    "\n",
    "from preprocess import preprocess as preprocess_data"
   ]
  },
  {
   "cell_type": "code",
   "execution_count": 11,
   "id": "85a11001-be52-4591-ad4e-4c14c0a10fb0",
   "metadata": {},
   "outputs": [],
   "source": [
    "import pandas as pd\n",
    "import numpy as np\n",
    "\n",
    "from sklearn.linear_model import LogisticRegression\n",
    "\n",
    "import warnings\n",
    "warnings.filterwarnings('ignore')"
   ]
  },
  {
   "cell_type": "code",
   "execution_count": 3,
   "id": "0c14e0cc-884c-4d21-bc22-dae4d1795632",
   "metadata": {},
   "outputs": [],
   "source": [
    "departures_test_name = 'departures_to_test'\n",
    "departures_train_name = 'departures'\n",
    "\n",
    "weather_test_name = 'weather_predict'\n",
    "weather_train_name = 'weather'"
   ]
  },
  {
   "cell_type": "code",
   "execution_count": 4,
   "id": "11657954-e34a-4321-870d-460b48d62817",
   "metadata": {},
   "outputs": [],
   "source": [
    "_, conn, cur = connection()"
   ]
  },
  {
   "cell_type": "code",
   "execution_count": 5,
   "id": "5fc369d2-5b20-4c1e-9875-b32541c5612b",
   "metadata": {},
   "outputs": [],
   "source": [
    "def get_data(connection, table_name, weather_table_name, is_train=False):\n",
    "    query = f'''\n",
    "        SELECT * \n",
    "        FROM {table_name}\n",
    "        LEFT JOIN {weather_table_name} ON {weather_table_name}.datetime = {table_name}.datetime_round\n",
    "    '''\n",
    "    if is_train:\n",
    "        query += ' WHERE delay IS NOT NULL'\n",
    "    data = pd.read_sql(query, connection)\n",
    "    return data"
   ]
  },
  {
   "cell_type": "code",
   "execution_count": 6,
   "id": "73dd12e2-f761-4893-ab7d-c8ad93614739",
   "metadata": {},
   "outputs": [],
   "source": [
    "def additional_preprocess(data):\n",
    "    data = data.drop(columns=['scheduled_datetime', 'date']).fillna(0)\n",
    "    return data"
   ]
  },
  {
   "cell_type": "code",
   "execution_count": 7,
   "id": "0c9f385d-fbf4-4184-b724-81c509a049ad",
   "metadata": {},
   "outputs": [
    {
     "data": {
      "text/html": [
       "<div>\n",
       "<style scoped>\n",
       "    .dataframe tbody tr th:only-of-type {\n",
       "        vertical-align: middle;\n",
       "    }\n",
       "\n",
       "    .dataframe tbody tr th {\n",
       "        vertical-align: top;\n",
       "    }\n",
       "\n",
       "    .dataframe thead th {\n",
       "        text-align: right;\n",
       "    }\n",
       "</style>\n",
       "<table border=\"1\" class=\"dataframe\">\n",
       "  <thead>\n",
       "    <tr style=\"text-align: right;\">\n",
       "      <th></th>\n",
       "      <th>carrier_code</th>\n",
       "      <th>flight</th>\n",
       "      <th>destination_airport</th>\n",
       "      <th>temp</th>\n",
       "      <th>humidity</th>\n",
       "      <th>precip</th>\n",
       "      <th>preciptype</th>\n",
       "      <th>snowdepth</th>\n",
       "      <th>windgust</th>\n",
       "      <th>windspeed</th>\n",
       "      <th>...</th>\n",
       "      <th>cloudcover</th>\n",
       "      <th>visibility</th>\n",
       "      <th>solarradiation</th>\n",
       "      <th>conditions</th>\n",
       "      <th>winspeed_greater_17</th>\n",
       "      <th>is_freezing_rain</th>\n",
       "      <th>is_first_day_half</th>\n",
       "      <th>weekday</th>\n",
       "      <th>is_weekend</th>\n",
       "      <th>season</th>\n",
       "    </tr>\n",
       "  </thead>\n",
       "  <tbody>\n",
       "    <tr>\n",
       "      <th>0</th>\n",
       "      <td>51</td>\n",
       "      <td>7454</td>\n",
       "      <td>8</td>\n",
       "      <td>38.0</td>\n",
       "      <td>88.6</td>\n",
       "      <td>0.4</td>\n",
       "      <td>4</td>\n",
       "      <td>0.2</td>\n",
       "      <td>33.3</td>\n",
       "      <td>20.8</td>\n",
       "      <td>...</td>\n",
       "      <td>100.0</td>\n",
       "      <td>1.6</td>\n",
       "      <td>0.0</td>\n",
       "      <td>0</td>\n",
       "      <td>1</td>\n",
       "      <td>0</td>\n",
       "      <td>False</td>\n",
       "      <td>3</td>\n",
       "      <td>False</td>\n",
       "      <td>3</td>\n",
       "    </tr>\n",
       "    <tr>\n",
       "      <th>1</th>\n",
       "      <td>51</td>\n",
       "      <td>7452</td>\n",
       "      <td>8</td>\n",
       "      <td>38.0</td>\n",
       "      <td>88.6</td>\n",
       "      <td>0.4</td>\n",
       "      <td>4</td>\n",
       "      <td>0.2</td>\n",
       "      <td>33.3</td>\n",
       "      <td>20.8</td>\n",
       "      <td>...</td>\n",
       "      <td>100.0</td>\n",
       "      <td>1.6</td>\n",
       "      <td>0.0</td>\n",
       "      <td>0</td>\n",
       "      <td>1</td>\n",
       "      <td>0</td>\n",
       "      <td>False</td>\n",
       "      <td>3</td>\n",
       "      <td>False</td>\n",
       "      <td>3</td>\n",
       "    </tr>\n",
       "    <tr>\n",
       "      <th>2</th>\n",
       "      <td>51</td>\n",
       "      <td>7458</td>\n",
       "      <td>8</td>\n",
       "      <td>38.0</td>\n",
       "      <td>88.6</td>\n",
       "      <td>0.4</td>\n",
       "      <td>4</td>\n",
       "      <td>0.2</td>\n",
       "      <td>33.3</td>\n",
       "      <td>20.8</td>\n",
       "      <td>...</td>\n",
       "      <td>100.0</td>\n",
       "      <td>1.6</td>\n",
       "      <td>0.0</td>\n",
       "      <td>0</td>\n",
       "      <td>1</td>\n",
       "      <td>0</td>\n",
       "      <td>False</td>\n",
       "      <td>3</td>\n",
       "      <td>False</td>\n",
       "      <td>3</td>\n",
       "    </tr>\n",
       "    <tr>\n",
       "      <th>3</th>\n",
       "      <td>51</td>\n",
       "      <td>7456</td>\n",
       "      <td>8</td>\n",
       "      <td>38.0</td>\n",
       "      <td>88.6</td>\n",
       "      <td>0.4</td>\n",
       "      <td>4</td>\n",
       "      <td>0.2</td>\n",
       "      <td>33.3</td>\n",
       "      <td>20.8</td>\n",
       "      <td>...</td>\n",
       "      <td>100.0</td>\n",
       "      <td>1.6</td>\n",
       "      <td>0.0</td>\n",
       "      <td>0</td>\n",
       "      <td>1</td>\n",
       "      <td>0</td>\n",
       "      <td>False</td>\n",
       "      <td>3</td>\n",
       "      <td>False</td>\n",
       "      <td>3</td>\n",
       "    </tr>\n",
       "    <tr>\n",
       "      <th>4</th>\n",
       "      <td>16</td>\n",
       "      <td>6444</td>\n",
       "      <td>110</td>\n",
       "      <td>38.0</td>\n",
       "      <td>88.6</td>\n",
       "      <td>0.4</td>\n",
       "      <td>4</td>\n",
       "      <td>0.2</td>\n",
       "      <td>33.3</td>\n",
       "      <td>20.8</td>\n",
       "      <td>...</td>\n",
       "      <td>100.0</td>\n",
       "      <td>1.6</td>\n",
       "      <td>0.0</td>\n",
       "      <td>0</td>\n",
       "      <td>1</td>\n",
       "      <td>0</td>\n",
       "      <td>False</td>\n",
       "      <td>3</td>\n",
       "      <td>False</td>\n",
       "      <td>3</td>\n",
       "    </tr>\n",
       "  </tbody>\n",
       "</table>\n",
       "<p>5 rows × 22 columns</p>\n",
       "</div>"
      ],
      "text/plain": [
       "   carrier_code  flight  destination_airport  temp  humidity  precip  \\\n",
       "0            51    7454                    8  38.0      88.6     0.4   \n",
       "1            51    7452                    8  38.0      88.6     0.4   \n",
       "2            51    7458                    8  38.0      88.6     0.4   \n",
       "3            51    7456                    8  38.0      88.6     0.4   \n",
       "4            16    6444                  110  38.0      88.6     0.4   \n",
       "\n",
       "   preciptype  snowdepth  windgust  windspeed  ...  cloudcover  visibility  \\\n",
       "0           4        0.2      33.3       20.8  ...       100.0         1.6   \n",
       "1           4        0.2      33.3       20.8  ...       100.0         1.6   \n",
       "2           4        0.2      33.3       20.8  ...       100.0         1.6   \n",
       "3           4        0.2      33.3       20.8  ...       100.0         1.6   \n",
       "4           4        0.2      33.3       20.8  ...       100.0         1.6   \n",
       "\n",
       "   solarradiation  conditions  winspeed_greater_17  is_freezing_rain  \\\n",
       "0             0.0           0                    1                 0   \n",
       "1             0.0           0                    1                 0   \n",
       "2             0.0           0                    1                 0   \n",
       "3             0.0           0                    1                 0   \n",
       "4             0.0           0                    1                 0   \n",
       "\n",
       "   is_first_day_half  weekday  is_weekend  season  \n",
       "0              False        3       False       3  \n",
       "1              False        3       False       3  \n",
       "2              False        3       False       3  \n",
       "3              False        3       False       3  \n",
       "4              False        3       False       3  \n",
       "\n",
       "[5 rows x 22 columns]"
      ]
     },
     "execution_count": 7,
     "metadata": {},
     "output_type": "execute_result"
    }
   ],
   "source": [
    "test = get_data(conn, departures_test_name, weather_test_name)\n",
    "test = preprocess_data(test)\n",
    "test = additional_preprocess(test)\n",
    "test = test.drop(columns=['delay'])\n",
    "test.head()"
   ]
  },
  {
   "cell_type": "code",
   "execution_count": 8,
   "id": "e918a25a-6e96-475f-938a-6aa5e348817d",
   "metadata": {},
   "outputs": [
    {
     "data": {
      "text/html": [
       "<div>\n",
       "<style scoped>\n",
       "    .dataframe tbody tr th:only-of-type {\n",
       "        vertical-align: middle;\n",
       "    }\n",
       "\n",
       "    .dataframe tbody tr th {\n",
       "        vertical-align: top;\n",
       "    }\n",
       "\n",
       "    .dataframe thead th {\n",
       "        text-align: right;\n",
       "    }\n",
       "</style>\n",
       "<table border=\"1\" class=\"dataframe\">\n",
       "  <thead>\n",
       "    <tr style=\"text-align: right;\">\n",
       "      <th></th>\n",
       "      <th>carrier_code</th>\n",
       "      <th>flight</th>\n",
       "      <th>destination_airport</th>\n",
       "      <th>scheduled_datetime</th>\n",
       "      <th>date</th>\n",
       "      <th>delay</th>\n",
       "      <th>temp</th>\n",
       "      <th>humidity</th>\n",
       "      <th>precip</th>\n",
       "      <th>preciptype</th>\n",
       "      <th>...</th>\n",
       "      <th>cloudcover</th>\n",
       "      <th>visibility</th>\n",
       "      <th>solarradiation</th>\n",
       "      <th>conditions</th>\n",
       "      <th>winspeed_greater_17</th>\n",
       "      <th>is_freezing_rain</th>\n",
       "      <th>is_first_day_half</th>\n",
       "      <th>weekday</th>\n",
       "      <th>is_weekend</th>\n",
       "      <th>season</th>\n",
       "    </tr>\n",
       "  </thead>\n",
       "  <tbody>\n",
       "    <tr>\n",
       "      <th>0</th>\n",
       "      <td>68</td>\n",
       "      <td>3001</td>\n",
       "      <td>193</td>\n",
       "      <td>20:35:00</td>\n",
       "      <td>2022-07-16</td>\n",
       "      <td>0.0</td>\n",
       "      <td>70.2</td>\n",
       "      <td>78.5</td>\n",
       "      <td>0.0</td>\n",
       "      <td>2</td>\n",
       "      <td>...</td>\n",
       "      <td>97.4</td>\n",
       "      <td>9.9</td>\n",
       "      <td>7.0</td>\n",
       "      <td>5</td>\n",
       "      <td>0</td>\n",
       "      <td>0</td>\n",
       "      <td>False</td>\n",
       "      <td>5</td>\n",
       "      <td>True</td>\n",
       "      <td>1</td>\n",
       "    </tr>\n",
       "    <tr>\n",
       "      <th>1</th>\n",
       "      <td>68</td>\n",
       "      <td>3010</td>\n",
       "      <td>193</td>\n",
       "      <td>08:42:00</td>\n",
       "      <td>2022-07-16</td>\n",
       "      <td>0.0</td>\n",
       "      <td>68.1</td>\n",
       "      <td>89.8</td>\n",
       "      <td>0.0</td>\n",
       "      <td>2</td>\n",
       "      <td>...</td>\n",
       "      <td>100.0</td>\n",
       "      <td>8.3</td>\n",
       "      <td>83.0</td>\n",
       "      <td>5</td>\n",
       "      <td>0</td>\n",
       "      <td>0</td>\n",
       "      <td>True</td>\n",
       "      <td>5</td>\n",
       "      <td>True</td>\n",
       "      <td>1</td>\n",
       "    </tr>\n",
       "    <tr>\n",
       "      <th>2</th>\n",
       "      <td>68</td>\n",
       "      <td>3015</td>\n",
       "      <td>118</td>\n",
       "      <td>08:18:00</td>\n",
       "      <td>2022-07-16</td>\n",
       "      <td>0.0</td>\n",
       "      <td>68.1</td>\n",
       "      <td>89.8</td>\n",
       "      <td>0.0</td>\n",
       "      <td>2</td>\n",
       "      <td>...</td>\n",
       "      <td>100.0</td>\n",
       "      <td>8.3</td>\n",
       "      <td>83.0</td>\n",
       "      <td>5</td>\n",
       "      <td>0</td>\n",
       "      <td>0</td>\n",
       "      <td>True</td>\n",
       "      <td>5</td>\n",
       "      <td>True</td>\n",
       "      <td>1</td>\n",
       "    </tr>\n",
       "    <tr>\n",
       "      <th>3</th>\n",
       "      <td>68</td>\n",
       "      <td>3032</td>\n",
       "      <td>101</td>\n",
       "      <td>10:30:00</td>\n",
       "      <td>2022-07-16</td>\n",
       "      <td>0.0</td>\n",
       "      <td>70.3</td>\n",
       "      <td>83.8</td>\n",
       "      <td>0.0</td>\n",
       "      <td>2</td>\n",
       "      <td>...</td>\n",
       "      <td>99.4</td>\n",
       "      <td>8.9</td>\n",
       "      <td>287.0</td>\n",
       "      <td>5</td>\n",
       "      <td>0</td>\n",
       "      <td>0</td>\n",
       "      <td>True</td>\n",
       "      <td>5</td>\n",
       "      <td>True</td>\n",
       "      <td>1</td>\n",
       "    </tr>\n",
       "    <tr>\n",
       "      <th>4</th>\n",
       "      <td>68</td>\n",
       "      <td>3045</td>\n",
       "      <td>118</td>\n",
       "      <td>19:47:00</td>\n",
       "      <td>2022-07-16</td>\n",
       "      <td>0.0</td>\n",
       "      <td>71.2</td>\n",
       "      <td>75.7</td>\n",
       "      <td>0.0</td>\n",
       "      <td>2</td>\n",
       "      <td>...</td>\n",
       "      <td>96.4</td>\n",
       "      <td>9.9</td>\n",
       "      <td>35.0</td>\n",
       "      <td>5</td>\n",
       "      <td>0</td>\n",
       "      <td>0</td>\n",
       "      <td>False</td>\n",
       "      <td>5</td>\n",
       "      <td>True</td>\n",
       "      <td>1</td>\n",
       "    </tr>\n",
       "  </tbody>\n",
       "</table>\n",
       "<p>5 rows × 25 columns</p>\n",
       "</div>"
      ],
      "text/plain": [
       "   carrier_code  flight  destination_airport scheduled_datetime        date  \\\n",
       "0            68    3001                  193           20:35:00  2022-07-16   \n",
       "1            68    3010                  193           08:42:00  2022-07-16   \n",
       "2            68    3015                  118           08:18:00  2022-07-16   \n",
       "3            68    3032                  101           10:30:00  2022-07-16   \n",
       "4            68    3045                  118           19:47:00  2022-07-16   \n",
       "\n",
       "   delay  temp  humidity  precip  preciptype  ...  cloudcover  visibility  \\\n",
       "0    0.0  70.2      78.5     0.0           2  ...        97.4         9.9   \n",
       "1    0.0  68.1      89.8     0.0           2  ...       100.0         8.3   \n",
       "2    0.0  68.1      89.8     0.0           2  ...       100.0         8.3   \n",
       "3    0.0  70.3      83.8     0.0           2  ...        99.4         8.9   \n",
       "4    0.0  71.2      75.7     0.0           2  ...        96.4         9.9   \n",
       "\n",
       "   solarradiation  conditions  winspeed_greater_17  is_freezing_rain  \\\n",
       "0             7.0           5                    0                 0   \n",
       "1            83.0           5                    0                 0   \n",
       "2            83.0           5                    0                 0   \n",
       "3           287.0           5                    0                 0   \n",
       "4            35.0           5                    0                 0   \n",
       "\n",
       "   is_first_day_half  weekday  is_weekend  season  \n",
       "0              False        5        True       1  \n",
       "1               True        5        True       1  \n",
       "2               True        5        True       1  \n",
       "3               True        5        True       1  \n",
       "4              False        5        True       1  \n",
       "\n",
       "[5 rows x 25 columns]"
      ]
     },
     "execution_count": 8,
     "metadata": {},
     "output_type": "execute_result"
    }
   ],
   "source": [
    "train = get_data(conn, departures_train_name, weather_train_name)\n",
    "train = preprocess_data(train, is_data_train=True)\n",
    "train.head()"
   ]
  },
  {
   "cell_type": "code",
   "execution_count": 109,
   "id": "86733be1-14ce-4bfd-82ac-b42a4bc26cf3",
   "metadata": {},
   "outputs": [],
   "source": [
    "def split_train(data):\n",
    "    max_date = data['date'].max()\n",
    "    train_old = data[data['date'] < max_date]\n",
    "    train_new = data[data['date'] == max_date]\n",
    "    return train_old, train_new\n",
    "\n",
    "train_old, train_new = split_train(train)\n",
    "train_old = additional_preprocess(train_old)\n",
    "train_new = additional_preprocess(train_new)"
   ]
  },
  {
   "cell_type": "code",
   "execution_count": 110,
   "id": "6da2a7d7-b49b-4926-ab88-3c06a4808e5a",
   "metadata": {},
   "outputs": [],
   "source": [
    "bound = 60"
   ]
  },
  {
   "cell_type": "code",
   "execution_count": 111,
   "id": "8a0b3ca7-7d76-43d6-ba7f-1d9535679335",
   "metadata": {},
   "outputs": [],
   "source": [
    "y = train_old['delay'].to_numpy()\n",
    "X = train_old.drop(columns=['delay']).to_numpy()\n",
    "\n",
    "y_val = train_new['delay']\n",
    "X_val = train_new.drop(columns=['delay']).to_numpy()"
   ]
  },
  {
   "cell_type": "code",
   "execution_count": 108,
   "id": "774261f3-4eca-4478-9ae9-c98df5ba0ce7",
   "metadata": {},
   "outputs": [],
   "source": [
    "y = y > bound + 0\n",
    "y_val = y_val > bound + 0"
   ]
  },
  {
   "cell_type": "code",
   "execution_count": 12,
   "id": "cf7d026b-806f-47ee-a66e-86d659c7af71",
   "metadata": {},
   "outputs": [
    {
     "data": {
      "text/plain": [
       "0.06546369081910142"
      ]
     },
     "execution_count": 12,
     "metadata": {},
     "output_type": "execute_result"
    }
   ],
   "source": [
    "y.mean()"
   ]
  },
  {
   "cell_type": "code",
   "execution_count": 65,
   "id": "f81c98be-d4e7-42ae-a869-bf04b6471e94",
   "metadata": {},
   "outputs": [
    {
     "data": {
      "text/plain": [
       "array([False, False, False, ..., False,  True, False])"
      ]
     },
     "execution_count": 65,
     "metadata": {},
     "output_type": "execute_result"
    }
   ],
   "source": [
    "y"
   ]
  },
  {
   "cell_type": "code",
   "execution_count": 37,
   "id": "4ce095a7-a1da-46dc-9d4b-fa4f8fa2efbb",
   "metadata": {},
   "outputs": [
    {
     "name": "stderr",
     "output_type": "stream",
     "text": [
      "/opt/conda/lib/python3.10/site-packages/sklearn/linear_model/_logistic.py:458: ConvergenceWarning: lbfgs failed to converge (status=1):\n",
      "STOP: TOTAL NO. of ITERATIONS REACHED LIMIT.\n",
      "\n",
      "Increase the number of iterations (max_iter) or scale the data as shown in:\n",
      "    https://scikit-learn.org/stable/modules/preprocessing.html\n",
      "Please also refer to the documentation for alternative solver options:\n",
      "    https://scikit-learn.org/stable/modules/linear_model.html#logistic-regression\n",
      "  n_iter_i = _check_optimize_result(\n"
     ]
    },
    {
     "data": {
      "text/html": [
       "<style>#sk-container-id-8 {color: black;background-color: white;}#sk-container-id-8 pre{padding: 0;}#sk-container-id-8 div.sk-toggleable {background-color: white;}#sk-container-id-8 label.sk-toggleable__label {cursor: pointer;display: block;width: 100%;margin-bottom: 0;padding: 0.3em;box-sizing: border-box;text-align: center;}#sk-container-id-8 label.sk-toggleable__label-arrow:before {content: \"▸\";float: left;margin-right: 0.25em;color: #696969;}#sk-container-id-8 label.sk-toggleable__label-arrow:hover:before {color: black;}#sk-container-id-8 div.sk-estimator:hover label.sk-toggleable__label-arrow:before {color: black;}#sk-container-id-8 div.sk-toggleable__content {max-height: 0;max-width: 0;overflow: hidden;text-align: left;background-color: #f0f8ff;}#sk-container-id-8 div.sk-toggleable__content pre {margin: 0.2em;color: black;border-radius: 0.25em;background-color: #f0f8ff;}#sk-container-id-8 input.sk-toggleable__control:checked~div.sk-toggleable__content {max-height: 200px;max-width: 100%;overflow: auto;}#sk-container-id-8 input.sk-toggleable__control:checked~label.sk-toggleable__label-arrow:before {content: \"▾\";}#sk-container-id-8 div.sk-estimator input.sk-toggleable__control:checked~label.sk-toggleable__label {background-color: #d4ebff;}#sk-container-id-8 div.sk-label input.sk-toggleable__control:checked~label.sk-toggleable__label {background-color: #d4ebff;}#sk-container-id-8 input.sk-hidden--visually {border: 0;clip: rect(1px 1px 1px 1px);clip: rect(1px, 1px, 1px, 1px);height: 1px;margin: -1px;overflow: hidden;padding: 0;position: absolute;width: 1px;}#sk-container-id-8 div.sk-estimator {font-family: monospace;background-color: #f0f8ff;border: 1px dotted black;border-radius: 0.25em;box-sizing: border-box;margin-bottom: 0.5em;}#sk-container-id-8 div.sk-estimator:hover {background-color: #d4ebff;}#sk-container-id-8 div.sk-parallel-item::after {content: \"\";width: 100%;border-bottom: 1px solid gray;flex-grow: 1;}#sk-container-id-8 div.sk-label:hover label.sk-toggleable__label {background-color: #d4ebff;}#sk-container-id-8 div.sk-serial::before {content: \"\";position: absolute;border-left: 1px solid gray;box-sizing: border-box;top: 0;bottom: 0;left: 50%;z-index: 0;}#sk-container-id-8 div.sk-serial {display: flex;flex-direction: column;align-items: center;background-color: white;padding-right: 0.2em;padding-left: 0.2em;position: relative;}#sk-container-id-8 div.sk-item {position: relative;z-index: 1;}#sk-container-id-8 div.sk-parallel {display: flex;align-items: stretch;justify-content: center;background-color: white;position: relative;}#sk-container-id-8 div.sk-item::before, #sk-container-id-8 div.sk-parallel-item::before {content: \"\";position: absolute;border-left: 1px solid gray;box-sizing: border-box;top: 0;bottom: 0;left: 50%;z-index: -1;}#sk-container-id-8 div.sk-parallel-item {display: flex;flex-direction: column;z-index: 1;position: relative;background-color: white;}#sk-container-id-8 div.sk-parallel-item:first-child::after {align-self: flex-end;width: 50%;}#sk-container-id-8 div.sk-parallel-item:last-child::after {align-self: flex-start;width: 50%;}#sk-container-id-8 div.sk-parallel-item:only-child::after {width: 0;}#sk-container-id-8 div.sk-dashed-wrapped {border: 1px dashed gray;margin: 0 0.4em 0.5em 0.4em;box-sizing: border-box;padding-bottom: 0.4em;background-color: white;}#sk-container-id-8 div.sk-label label {font-family: monospace;font-weight: bold;display: inline-block;line-height: 1.2em;}#sk-container-id-8 div.sk-label-container {text-align: center;}#sk-container-id-8 div.sk-container {/* jupyter's `normalize.less` sets `[hidden] { display: none; }` but bootstrap.min.css set `[hidden] { display: none !important; }` so we also need the `!important` here to be able to override the default hidden behavior on the sphinx rendered scikit-learn.org. See: https://github.com/scikit-learn/scikit-learn/issues/21755 */display: inline-block !important;position: relative;}#sk-container-id-8 div.sk-text-repr-fallback {display: none;}</style><div id=\"sk-container-id-8\" class=\"sk-top-container\"><div class=\"sk-text-repr-fallback\"><pre>LogisticRegression(class_weight={0: 0.05, 1: 0.95}, n_jobs=-1)</pre><b>In a Jupyter environment, please rerun this cell to show the HTML representation or trust the notebook. <br />On GitHub, the HTML representation is unable to render, please try loading this page with nbviewer.org.</b></div><div class=\"sk-container\" hidden><div class=\"sk-item\"><div class=\"sk-estimator sk-toggleable\"><input class=\"sk-toggleable__control sk-hidden--visually\" id=\"sk-estimator-id-8\" type=\"checkbox\" checked><label for=\"sk-estimator-id-8\" class=\"sk-toggleable__label sk-toggleable__label-arrow\">LogisticRegression</label><div class=\"sk-toggleable__content\"><pre>LogisticRegression(class_weight={0: 0.05, 1: 0.95}, n_jobs=-1)</pre></div></div></div></div></div>"
      ],
      "text/plain": [
       "LogisticRegression(class_weight={0: 0.05, 1: 0.95}, n_jobs=-1)"
      ]
     },
     "execution_count": 37,
     "metadata": {},
     "output_type": "execute_result"
    }
   ],
   "source": [
    "logreg = LogisticRegression(n_jobs=-1, class_weight={0:0.05, 1:0.95})\n",
    "logreg.fit(X, y)"
   ]
  },
  {
   "cell_type": "code",
   "execution_count": 43,
   "id": "e9c9a900-f9c8-4d89-ad23-407fa8d7b3a6",
   "metadata": {},
   "outputs": [
    {
     "data": {
      "text/plain": [
       "0.9819209226792165"
      ]
     },
     "execution_count": 43,
     "metadata": {},
     "output_type": "execute_result"
    }
   ],
   "source": [
    "((logreg.predict_proba(X)[:, 1] > 0.7) == y)[~y].mean()"
   ]
  },
  {
   "cell_type": "code",
   "execution_count": 44,
   "id": "199a4ab6-3cff-4abe-84ab-ce45a9daae38",
   "metadata": {},
   "outputs": [
    {
     "data": {
      "text/plain": [
       "array([0.59627998, 0.62145197, 0.62234818, ..., 0.60769516, 0.63441976,\n",
       "       0.64051958])"
      ]
     },
     "execution_count": 44,
     "metadata": {},
     "output_type": "execute_result"
    }
   ],
   "source": [
    "logreg.predict_proba(X)[:, 1]"
   ]
  },
  {
   "cell_type": "code",
   "execution_count": 46,
   "id": "fa44c797-30d6-4a45-b2ed-f1aecc0f00a2",
   "metadata": {},
   "outputs": [
    {
     "data": {
      "text/plain": [
       "21136"
      ]
     },
     "execution_count": 46,
     "metadata": {},
     "output_type": "execute_result"
    }
   ],
   "source": [
    "pos_count = y.sum()\n",
    "pos_count"
   ]
  },
  {
   "cell_type": "code",
   "execution_count": 79,
   "id": "2ae6a05a-94ce-4927-bdd0-66d8a086f1c9",
   "metadata": {},
   "outputs": [
    {
     "name": "stderr",
     "output_type": "stream",
     "text": [
      "/opt/conda/lib/python3.10/site-packages/sklearn/linear_model/_logistic.py:458: ConvergenceWarning: lbfgs failed to converge (status=1):\n",
      "STOP: TOTAL NO. of ITERATIONS REACHED LIMIT.\n",
      "\n",
      "Increase the number of iterations (max_iter) or scale the data as shown in:\n",
      "    https://scikit-learn.org/stable/modules/preprocessing.html\n",
      "Please also refer to the documentation for alternative solver options:\n",
      "    https://scikit-learn.org/stable/modules/linear_model.html#logistic-regression\n",
      "  n_iter_i = _check_optimize_result(\n"
     ]
    },
    {
     "data": {
      "text/html": [
       "<style>#sk-container-id-11 {color: black;background-color: white;}#sk-container-id-11 pre{padding: 0;}#sk-container-id-11 div.sk-toggleable {background-color: white;}#sk-container-id-11 label.sk-toggleable__label {cursor: pointer;display: block;width: 100%;margin-bottom: 0;padding: 0.3em;box-sizing: border-box;text-align: center;}#sk-container-id-11 label.sk-toggleable__label-arrow:before {content: \"▸\";float: left;margin-right: 0.25em;color: #696969;}#sk-container-id-11 label.sk-toggleable__label-arrow:hover:before {color: black;}#sk-container-id-11 div.sk-estimator:hover label.sk-toggleable__label-arrow:before {color: black;}#sk-container-id-11 div.sk-toggleable__content {max-height: 0;max-width: 0;overflow: hidden;text-align: left;background-color: #f0f8ff;}#sk-container-id-11 div.sk-toggleable__content pre {margin: 0.2em;color: black;border-radius: 0.25em;background-color: #f0f8ff;}#sk-container-id-11 input.sk-toggleable__control:checked~div.sk-toggleable__content {max-height: 200px;max-width: 100%;overflow: auto;}#sk-container-id-11 input.sk-toggleable__control:checked~label.sk-toggleable__label-arrow:before {content: \"▾\";}#sk-container-id-11 div.sk-estimator input.sk-toggleable__control:checked~label.sk-toggleable__label {background-color: #d4ebff;}#sk-container-id-11 div.sk-label input.sk-toggleable__control:checked~label.sk-toggleable__label {background-color: #d4ebff;}#sk-container-id-11 input.sk-hidden--visually {border: 0;clip: rect(1px 1px 1px 1px);clip: rect(1px, 1px, 1px, 1px);height: 1px;margin: -1px;overflow: hidden;padding: 0;position: absolute;width: 1px;}#sk-container-id-11 div.sk-estimator {font-family: monospace;background-color: #f0f8ff;border: 1px dotted black;border-radius: 0.25em;box-sizing: border-box;margin-bottom: 0.5em;}#sk-container-id-11 div.sk-estimator:hover {background-color: #d4ebff;}#sk-container-id-11 div.sk-parallel-item::after {content: \"\";width: 100%;border-bottom: 1px solid gray;flex-grow: 1;}#sk-container-id-11 div.sk-label:hover label.sk-toggleable__label {background-color: #d4ebff;}#sk-container-id-11 div.sk-serial::before {content: \"\";position: absolute;border-left: 1px solid gray;box-sizing: border-box;top: 0;bottom: 0;left: 50%;z-index: 0;}#sk-container-id-11 div.sk-serial {display: flex;flex-direction: column;align-items: center;background-color: white;padding-right: 0.2em;padding-left: 0.2em;position: relative;}#sk-container-id-11 div.sk-item {position: relative;z-index: 1;}#sk-container-id-11 div.sk-parallel {display: flex;align-items: stretch;justify-content: center;background-color: white;position: relative;}#sk-container-id-11 div.sk-item::before, #sk-container-id-11 div.sk-parallel-item::before {content: \"\";position: absolute;border-left: 1px solid gray;box-sizing: border-box;top: 0;bottom: 0;left: 50%;z-index: -1;}#sk-container-id-11 div.sk-parallel-item {display: flex;flex-direction: column;z-index: 1;position: relative;background-color: white;}#sk-container-id-11 div.sk-parallel-item:first-child::after {align-self: flex-end;width: 50%;}#sk-container-id-11 div.sk-parallel-item:last-child::after {align-self: flex-start;width: 50%;}#sk-container-id-11 div.sk-parallel-item:only-child::after {width: 0;}#sk-container-id-11 div.sk-dashed-wrapped {border: 1px dashed gray;margin: 0 0.4em 0.5em 0.4em;box-sizing: border-box;padding-bottom: 0.4em;background-color: white;}#sk-container-id-11 div.sk-label label {font-family: monospace;font-weight: bold;display: inline-block;line-height: 1.2em;}#sk-container-id-11 div.sk-label-container {text-align: center;}#sk-container-id-11 div.sk-container {/* jupyter's `normalize.less` sets `[hidden] { display: none; }` but bootstrap.min.css set `[hidden] { display: none !important; }` so we also need the `!important` here to be able to override the default hidden behavior on the sphinx rendered scikit-learn.org. See: https://github.com/scikit-learn/scikit-learn/issues/21755 */display: inline-block !important;position: relative;}#sk-container-id-11 div.sk-text-repr-fallback {display: none;}</style><div id=\"sk-container-id-11\" class=\"sk-top-container\"><div class=\"sk-text-repr-fallback\"><pre>LogisticRegression(n_jobs=-1)</pre><b>In a Jupyter environment, please rerun this cell to show the HTML representation or trust the notebook. <br />On GitHub, the HTML representation is unable to render, please try loading this page with nbviewer.org.</b></div><div class=\"sk-container\" hidden><div class=\"sk-item\"><div class=\"sk-estimator sk-toggleable\"><input class=\"sk-toggleable__control sk-hidden--visually\" id=\"sk-estimator-id-11\" type=\"checkbox\" checked><label for=\"sk-estimator-id-11\" class=\"sk-toggleable__label sk-toggleable__label-arrow\">LogisticRegression</label><div class=\"sk-toggleable__content\"><pre>LogisticRegression(n_jobs=-1)</pre></div></div></div></div></div>"
      ],
      "text/plain": [
       "LogisticRegression(n_jobs=-1)"
      ]
     },
     "execution_count": 79,
     "metadata": {},
     "output_type": "execute_result"
    }
   ],
   "source": [
    "logreg = LogisticRegression(n_jobs=-1)\n",
    "logreg.fit(np.concatenate((X[~y][:pos_count], X[y])), [False]*pos_count + [True]*pos_count)"
   ]
  },
  {
   "cell_type": "code",
   "execution_count": 80,
   "id": "7f8ae3cd-1f30-4de5-96cf-87e03e4ba84b",
   "metadata": {},
   "outputs": [
    {
     "data": {
      "text/plain": [
       "0.8043858819076457"
      ]
     },
     "execution_count": 80,
     "metadata": {},
     "output_type": "execute_result"
    }
   ],
   "source": [
    "((logreg.predict_proba(np.concatenate((X[~y][:pos_count], X[y])))[:, 1] > 0.6) == \\\n",
    " np.array([False]*pos_count + [True]*pos_count)).mean()"
   ]
  },
  {
   "cell_type": "code",
   "execution_count": 89,
   "id": "cf8579d9-97b5-4a23-94e8-6a1e6f1810c1",
   "metadata": {},
   "outputs": [
    {
     "data": {
      "text/plain": [
       "169871    False\n",
       "169872    False\n",
       "169873    False\n",
       "169874    False\n",
       "169875    False\n",
       "          ...  \n",
       "170799    False\n",
       "170800    False\n",
       "170801    False\n",
       "170802    False\n",
       "170803    False\n",
       "Name: delay, Length: 933, dtype: bool"
      ]
     },
     "execution_count": 89,
     "metadata": {},
     "output_type": "execute_result"
    }
   ],
   "source": []
  },
  {
   "cell_type": "code",
   "execution_count": 95,
   "id": "4e2e3f4b-3f0c-4d88-826f-34067f721692",
   "metadata": {},
   "outputs": [
    {
     "data": {
      "text/plain": [
       "0.27896512935883017"
      ]
     },
     "execution_count": 95,
     "metadata": {},
     "output_type": "execute_result"
    }
   ],
   "source": [
    "((logreg.predict_proba(X_val)[:, 1] > 0.6) == y_val)[~y_val].mean()"
   ]
  },
  {
   "cell_type": "code",
   "execution_count": 112,
   "id": "5cc42f7a-c4b2-49a2-a190-6fff39329a9d",
   "metadata": {},
   "outputs": [],
   "source": [
    "X_big = X[y > bound]\n",
    "y_big = y[y > bound]\n",
    "res_big = np.mean(y_big)\n",
    "\n",
    "res_small = 0"
   ]
  },
  {
   "cell_type": "code",
   "execution_count": 117,
   "id": "23d559cd-d67c-46c0-835c-07e1865a2cd4",
   "metadata": {},
   "outputs": [
    {
     "data": {
      "text/plain": [
       "array([False, False, False, ..., False,  True, False])"
      ]
     },
     "execution_count": 117,
     "metadata": {},
     "output_type": "execute_result"
    }
   ],
   "source": [
    "y > bound"
   ]
  },
  {
   "cell_type": "code",
   "execution_count": 119,
   "id": "0aa192cd-d584-45e3-9e14-e460e78bde1a",
   "metadata": {},
   "outputs": [],
   "source": [
    "preds = np.array([0] * len(y_val))\n",
    "preds[(logreg.predict_proba(X_val)[:, 1] > 0.6)] = res_big"
   ]
  },
  {
   "cell_type": "code",
   "execution_count": 122,
   "id": "9e588c0f-8c6b-4c4f-8a73-c4c5988e9748",
   "metadata": {},
   "outputs": [
    {
     "data": {
      "text/plain": [
       "97.28081457663451"
      ]
     },
     "execution_count": 122,
     "metadata": {},
     "output_type": "execute_result"
    }
   ],
   "source": [
    "np.abs(preds - y_val).mean()"
   ]
  },
  {
   "cell_type": "code",
   "execution_count": null,
   "id": "31c0e517-fcdd-4747-87de-f8fceeaafeba",
   "metadata": {},
   "outputs": [],
   "source": []
  }
 ],
 "metadata": {
  "kernelspec": {
   "display_name": "Python 3 (ipykernel)",
   "language": "python",
   "name": "python3"
  },
  "language_info": {
   "codemirror_mode": {
    "name": "ipython",
    "version": 3
   },
   "file_extension": ".py",
   "mimetype": "text/x-python",
   "name": "python",
   "nbconvert_exporter": "python",
   "pygments_lexer": "ipython3",
   "version": "3.10.8"
  }
 },
 "nbformat": 4,
 "nbformat_minor": 5
}
