{
 "cells": [
  {
   "cell_type": "code",
   "execution_count": 14,
   "metadata": {},
   "outputs": [],
   "source": [
    "import psycopg2\n",
    "import pandas as pd"
   ]
  },
  {
   "cell_type": "code",
   "execution_count": 15,
   "metadata": {},
   "outputs": [],
   "source": [
    "conn = psycopg2.connect(\n",
    "            host='localhost',\n",
    "            port='5432',\n",
    "            database='airflow',\n",
    "            user='postgres',\n",
    "            password='MYZv3Ietuflo'\n",
    "        )\n",
    "cur = conn.cursor()"
   ]
  },
  {
   "cell_type": "code",
   "execution_count": 52,
   "metadata": {},
   "outputs": [],
   "source": [
    "conn.rollback()"
   ]
  },
  {
   "cell_type": "code",
   "execution_count": 49,
   "metadata": {},
   "outputs": [
    {
     "ename": "UndefinedTable",
     "evalue": "relation \"weather\" does not exist\nLINE 1: select * from weather\n                      ^\n",
     "output_type": "error",
     "traceback": [
      "\u001b[0;31m---------------------------------------------------------------------------\u001b[0m",
      "\u001b[0;31mUndefinedTable\u001b[0m                            Traceback (most recent call last)",
      "Cell \u001b[0;32mIn[49], line 1\u001b[0m\n\u001b[0;32m----> 1\u001b[0m cur\u001b[39m.\u001b[39;49mexecute(\u001b[39mf\u001b[39;49m\u001b[39m'\u001b[39;49m\u001b[39mselect * from \u001b[39;49m\u001b[39m{\u001b[39;49;00mtable_name\u001b[39m}\u001b[39;49;00m\u001b[39m'\u001b[39;49m)\n\u001b[1;32m      2\u001b[0m result \u001b[39m=\u001b[39m cur\u001b[39m.\u001b[39mfetchall()\n\u001b[1;32m      3\u001b[0m result\n",
      "\u001b[0;31mUndefinedTable\u001b[0m: relation \"weather\" does not exist\nLINE 1: select * from weather\n                      ^\n"
     ]
    }
   ],
   "source": [
    "cur.execute(f'select * from weather')\n",
    "result = cur.fetchall()\n",
    "result"
   ]
  },
  {
   "cell_type": "code",
   "execution_count": null,
   "metadata": {},
   "outputs": [],
   "source": [
    "conn.close()"
   ]
  },
  {
   "cell_type": "code",
   "execution_count": 1,
   "metadata": {},
   "outputs": [],
   "source": [
    "with open(\n",
    "    '/home/ivan_admin/dmls_aviaticket/ipynb/weather/weather_historical.csv'\n",
    "    ) as file:\n",
    "    csv = file.readlines()"
   ]
  },
  {
   "cell_type": "code",
   "execution_count": 20,
   "metadata": {},
   "outputs": [
    {
     "data": {
      "text/plain": [
       "10754"
      ]
     },
     "execution_count": 20,
     "metadata": {},
     "output_type": "execute_result"
    }
   ],
   "source": [
    "len(csv)"
   ]
  },
  {
   "cell_type": "code",
   "execution_count": 81,
   "metadata": {},
   "outputs": [],
   "source": [
    "columns = [col for col in csv[0].replace('\\n', '').split(',')[1:]]\n",
    "types = ['timestamp'] + ['decimal(5, 1)'] * 6 + ['text'] + ['decimal(5, 1)'] * 12 + ['text'] * 2\n",
    "table_name = 'weather'"
   ]
  },
  {
   "cell_type": "code",
   "execution_count": 82,
   "metadata": {},
   "outputs": [
    {
     "data": {
      "text/plain": [
       "[]"
      ]
     },
     "execution_count": 82,
     "metadata": {},
     "output_type": "execute_result"
    }
   ],
   "source": [
    "col_type = ', '.join([col + ' ' + type for col, type in zip(columns, types)])\n",
    "cur.execute(\n",
    "    f'''\n",
    "    create table if not exists {table_name} ({col_type});\n",
    "    '''\n",
    ")\n",
    "\n",
    "cur.execute(f'select * from {table_name}')\n",
    "result = cur.fetchall()\n",
    "result"
   ]
  },
  {
   "cell_type": "code",
   "execution_count": 83,
   "metadata": {},
   "outputs": [],
   "source": [
    "table_data = []\n",
    "\n",
    "for data in csv[1:]:\n",
    "    data = data.replace('\\n', '').split(',')[1:]\n",
    "    data = ['NULL' if x == '' else x for x in data]\n",
    "    string = ''\n",
    "    for col, type in zip(data, types):\n",
    "        if col == 'NULL':\n",
    "            string += col + ', '\n",
    "        elif type == 'text':\n",
    "            string += \"\\'\" + col + \"\\'\" + ', '\n",
    "        elif type == 'timestamp':\n",
    "            string += 'TIMESTAMP ' + \"\\'\" + col + \"\\'\" + ', '\n",
    "        else:\n",
    "            col = col if col.replace('.', '').isdigit() else '0'\n",
    "            string += col + ', '\n",
    "    string = string[:-2]\n",
    "    table_data.append(string)\n",
    "\n",
    "columns = [col for col in csv[0].replace('\\n', '').split(',')[1:]]\n",
    "query = f\"\"\"insert into {table_name} ({', '.join(columns)}) \\nvalues \"\"\"\n",
    "for row in table_data:\n",
    "    query += f'\\n({row}), '\n",
    "query = query[:-2] + ';'"
   ]
  },
  {
   "cell_type": "code",
   "execution_count": 58,
   "metadata": {},
   "outputs": [
    {
     "data": {
      "text/plain": [
       "1411030"
      ]
     },
     "execution_count": 58,
     "metadata": {},
     "output_type": "execute_result"
    }
   ],
   "source": [
    "len(query)"
   ]
  },
  {
   "cell_type": "code",
   "execution_count": 84,
   "metadata": {},
   "outputs": [
    {
     "name": "stdout",
     "output_type": "stream",
     "text": [
      "insert into weather (datetime, temp, feelslike, dew, humidity, precip, precipprob, preciptype, snow, snowdepth, windgust, windspeed, winddir, sealevelpressure, cloudcover, visibility, solarradiation, solarenergy, uvindex, severerisk, conditions, icon) \n",
      "values \n",
      "(TIMESTAMP '2021-11-01 00:00:00', 39.8, 34.5, 29.7, 66.84, 0.0, 0.0, NULL, 0.0, 0.0, NULL, 7.7, 260.0, 1022.3, 0.0, 9.9, NULL, NULL, NULL, NULL, 'Clear', 'clear-night'), \n",
      "(TIMESTAMP '2021-11-01 01:00:00', 39.0, 33.5, 28.9, 66.93, 0.0, 0.0, NULL, 0.0, 0.0, NULL, 7.8, 271.0, 1022.7, 0.0, 9.9, NULL, NULL, NULL, NULL, 'Clear', 'clear-night'), \n",
      "(TIMESTAMP '2021-11-01 02:00:00', 38.2, 32.9, 28.9, 68.76, 0.0, 0.0, NULL, 0.0, 0.0, NULL, 7.1, 281.0, 1022.8, 0.0, 9.9, NULL, NULL, NULL, NULL, 'Clear', 'clear-night'), \n",
      "(TIMESTAMP '2021-11-01 03:00:00', 37.3, 31.9, 28.9, 71.23, 0.0, 0.0, NULL, 0.0, 0.0, NULL, 7.0, 290.0, 1023.2, 0.0, 9.9, NULL, NULL, NULL, NULL, 'Clear', 'clear-night'), \n",
      "(TIMESTAMP '2021-11-01 04:00:00', 37.2, 31.9, 28.9, 71.\n"
     ]
    }
   ],
   "source": [
    "print(query[:1000])"
   ]
  },
  {
   "cell_type": "code",
   "execution_count": 85,
   "metadata": {},
   "outputs": [],
   "source": [
    "cur.execute(query)\n",
    "conn.commit()"
   ]
  },
  {
   "cell_type": "code",
   "execution_count": 78,
   "metadata": {},
   "outputs": [],
   "source": [
    "conn.rollback()"
   ]
  },
  {
   "cell_type": "code",
   "execution_count": 79,
   "metadata": {},
   "outputs": [
    {
     "data": {
      "text/plain": [
       "[]"
      ]
     },
     "execution_count": 79,
     "metadata": {},
     "output_type": "execute_result"
    }
   ],
   "source": [
    "cur.execute('select * from weather;')\n",
    "cur.fetchall()"
   ]
  },
  {
   "cell_type": "code",
   "execution_count": 80,
   "metadata": {},
   "outputs": [],
   "source": [
    "cur.execute('drop table weather;')"
   ]
  },
  {
   "cell_type": "code",
   "execution_count": 75,
   "metadata": {},
   "outputs": [],
   "source": [
    "cur.execute('truncate table weather;')"
   ]
  },
  {
   "cell_type": "code",
   "execution_count": 76,
   "metadata": {},
   "outputs": [],
   "source": [
    "conn.commit()"
   ]
  },
  {
   "cell_type": "code",
   "execution_count": null,
   "metadata": {},
   "outputs": [],
   "source": []
  }
 ],
 "metadata": {
  "kernelspec": {
   "display_name": "base",
   "language": "python",
   "name": "python3"
  },
  "language_info": {
   "codemirror_mode": {
    "name": "ipython",
    "version": 3
   },
   "file_extension": ".py",
   "mimetype": "text/x-python",
   "name": "python",
   "nbconvert_exporter": "python",
   "pygments_lexer": "ipython3",
   "version": "3.8.10"
  },
  "orig_nbformat": 4,
  "vscode": {
   "interpreter": {
    "hash": "60ab0187f4877a1f26e5bf1c0a2fa1cb16b5dacf3e2c177a244da938b0e0e122"
   }
  }
 },
 "nbformat": 4,
 "nbformat_minor": 2
}
